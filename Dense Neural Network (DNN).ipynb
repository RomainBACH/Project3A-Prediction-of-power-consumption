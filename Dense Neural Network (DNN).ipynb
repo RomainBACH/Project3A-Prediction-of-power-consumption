{
 "cells": [
  {
   "cell_type": "markdown",
   "id": "27d7d114",
   "metadata": {},
   "source": [
    "# PROJECT 3A_RTS: Big data analysis of an electricity power consumption (Tetouan Town - Morocco) and visualizing Prediction results"
   ]
  },
  {
   "cell_type": "markdown",
   "id": "423e1fe2",
   "metadata": {},
   "source": [
    "## 1) Import useful libraries¶"
   ]
  },
  {
   "cell_type": "code",
   "execution_count": 1,
   "id": "23d98bb6",
   "metadata": {},
   "outputs": [],
   "source": [
    "import pandas as pd\n",
    "import numpy as np\n",
    "import matplotlib.pyplot as plt\n",
    "import seaborn as sns\n",
    "\n",
    "import tensorflow as tf\n",
    "from tensorflow import keras\n",
    "from sklearn.model_selection import train_test_split\n",
    "from sklearn.metrics import mean_absolute_error"
   ]
  },
  {
   "cell_type": "markdown",
   "id": "50d9f9d2",
   "metadata": {},
   "source": [
    "## 2) Retrieve the dataset"
   ]
  },
  {
   "cell_type": "code",
   "execution_count": 2,
   "id": "a9d2585b",
   "metadata": {},
   "outputs": [],
   "source": [
    "consumptionTetuan = pd.read_csv(\"Tetuan City power consumption.csv\")"
   ]
  },
  {
   "cell_type": "code",
   "execution_count": 3,
   "id": "52802541",
   "metadata": {},
   "outputs": [],
   "source": [
    "zone1 = consumptionTetuan['Zone 1 Power Consumption']\n",
    "zone2 = consumptionTetuan['Zone 2  Power Consumption'] \n",
    "zone3 = consumptionTetuan['Zone 3  Power Consumption']"
   ]
  },
  {
   "cell_type": "markdown",
   "id": "7dd4f88e",
   "metadata": {},
   "source": [
    "## 3) Dense Neural Network (DNN)"
   ]
  },
  {
   "cell_type": "code",
   "execution_count": 4,
   "id": "9ebc8869",
   "metadata": {},
   "outputs": [],
   "source": [
    "X = consumptionTetuan.drop(['DateTime', 'Zone 1 Power Consumption', 'Zone 2  Power Consumption', 'Zone 3  Power Consumption'], axis = 1)\n",
    "y = zone3\n",
    "\n",
    "X_train, X_test, y_train, y_test = train_test_split(X, y, test_size = 0.2, random_state = 0, shuffle=False)"
   ]
  },
  {
   "cell_type": "code",
   "execution_count": 5,
   "id": "02fd5d6e",
   "metadata": {},
   "outputs": [],
   "source": [
    "# Méthode 1: Avec bibliothèque\n",
    "\n",
    "from sklearn import preprocessing\n",
    "\n",
    "scaler = preprocessing.StandardScaler().fit(X_train)\n",
    "X_train_norm = scaler.transform(X_train)"
   ]
  },
  {
   "cell_type": "code",
   "execution_count": 6,
   "id": "a80149d9",
   "metadata": {},
   "outputs": [],
   "source": [
    "# Méthode 2: En apppliquant les formules\n",
    "\n",
    "mean = X_train.mean()\n",
    "std  = X_train.std()\n",
    "X_train_norm2 = (X_train - mean) / std\n",
    "X_test_norm = (X_test - mean) / std"
   ]
  },
  {
   "cell_type": "code",
   "execution_count": 7,
   "id": "2e43f42b",
   "metadata": {},
   "outputs": [
    {
     "data": {
      "text/html": [
       "<div>\n",
       "<style scoped>\n",
       "    .dataframe tbody tr th:only-of-type {\n",
       "        vertical-align: middle;\n",
       "    }\n",
       "\n",
       "    .dataframe tbody tr th {\n",
       "        vertical-align: top;\n",
       "    }\n",
       "\n",
       "    .dataframe thead th {\n",
       "        text-align: right;\n",
       "    }\n",
       "</style>\n",
       "<table border=\"1\" class=\"dataframe\">\n",
       "  <thead>\n",
       "    <tr style=\"text-align: right;\">\n",
       "      <th></th>\n",
       "      <th>0</th>\n",
       "      <th>1</th>\n",
       "      <th>2</th>\n",
       "      <th>3</th>\n",
       "      <th>4</th>\n",
       "    </tr>\n",
       "  </thead>\n",
       "  <tbody>\n",
       "    <tr>\n",
       "      <th>count</th>\n",
       "      <td>4.193200e+04</td>\n",
       "      <td>4.193200e+04</td>\n",
       "      <td>4.193200e+04</td>\n",
       "      <td>4.193200e+04</td>\n",
       "      <td>4.193200e+04</td>\n",
       "    </tr>\n",
       "    <tr>\n",
       "      <th>mean</th>\n",
       "      <td>9.116183e-16</td>\n",
       "      <td>1.831164e-15</td>\n",
       "      <td>3.463745e-14</td>\n",
       "      <td>4.878344e-15</td>\n",
       "      <td>2.992402e-17</td>\n",
       "    </tr>\n",
       "    <tr>\n",
       "      <th>std</th>\n",
       "      <td>1.000012e+00</td>\n",
       "      <td>1.000012e+00</td>\n",
       "      <td>1.000012e+00</td>\n",
       "      <td>1.000012e+00</td>\n",
       "      <td>1.000012e+00</td>\n",
       "    </tr>\n",
       "    <tr>\n",
       "      <th>min</th>\n",
       "      <td>-2.742878e+00</td>\n",
       "      <td>-3.505243e+00</td>\n",
       "      <td>-8.745300e-01</td>\n",
       "      <td>-7.187924e-01</td>\n",
       "      <td>-6.283561e-01</td>\n",
       "    </tr>\n",
       "    <tr>\n",
       "      <th>25%</th>\n",
       "      <td>-7.869102e-01</td>\n",
       "      <td>-6.427112e-01</td>\n",
       "      <td>-8.627656e-01</td>\n",
       "      <td>-7.185708e-01</td>\n",
       "      <td>-6.275333e-01</td>\n",
       "    </tr>\n",
       "    <tr>\n",
       "      <th>50%</th>\n",
       "      <td>6.051341e-02</td>\n",
       "      <td>1.062287e-01</td>\n",
       "      <td>-8.585640e-01</td>\n",
       "      <td>-6.687119e-01</td>\n",
       "      <td>-5.346948e-01</td>\n",
       "    </tr>\n",
       "    <tr>\n",
       "      <th>75%</th>\n",
       "      <td>7.381160e-01</td>\n",
       "      <td>8.501881e-01</td>\n",
       "      <td>1.169954e+00</td>\n",
       "      <td>5.833378e-01</td>\n",
       "      <td>2.365245e-01</td>\n",
       "    </tr>\n",
       "    <tr>\n",
       "      <th>max</th>\n",
       "      <td>3.438438e+00</td>\n",
       "      <td>1.628388e+00</td>\n",
       "      <td>1.213230e+00</td>\n",
       "      <td>3.438191e+00</td>\n",
       "      <td>6.568520e+00</td>\n",
       "    </tr>\n",
       "  </tbody>\n",
       "</table>\n",
       "</div>"
      ],
      "text/plain": [
       "                  0             1             2             3             4\n",
       "count  4.193200e+04  4.193200e+04  4.193200e+04  4.193200e+04  4.193200e+04\n",
       "mean   9.116183e-16  1.831164e-15  3.463745e-14  4.878344e-15  2.992402e-17\n",
       "std    1.000012e+00  1.000012e+00  1.000012e+00  1.000012e+00  1.000012e+00\n",
       "min   -2.742878e+00 -3.505243e+00 -8.745300e-01 -7.187924e-01 -6.283561e-01\n",
       "25%   -7.869102e-01 -6.427112e-01 -8.627656e-01 -7.185708e-01 -6.275333e-01\n",
       "50%    6.051341e-02  1.062287e-01 -8.585640e-01 -6.687119e-01 -5.346948e-01\n",
       "75%    7.381160e-01  8.501881e-01  1.169954e+00  5.833378e-01  2.365245e-01\n",
       "max    3.438438e+00  1.628388e+00  1.213230e+00  3.438191e+00  6.568520e+00"
      ]
     },
     "execution_count": 7,
     "metadata": {},
     "output_type": "execute_result"
    }
   ],
   "source": [
    "df_X_train_norm = pd.DataFrame(X_train_norm)\n",
    "\n",
    "df_X_train_norm.describe()"
   ]
  },
  {
   "cell_type": "code",
   "execution_count": 8,
   "id": "fde4b406",
   "metadata": {},
   "outputs": [
    {
     "data": {
      "text/html": [
       "<div>\n",
       "<style scoped>\n",
       "    .dataframe tbody tr th:only-of-type {\n",
       "        vertical-align: middle;\n",
       "    }\n",
       "\n",
       "    .dataframe tbody tr th {\n",
       "        vertical-align: top;\n",
       "    }\n",
       "\n",
       "    .dataframe thead th {\n",
       "        text-align: right;\n",
       "    }\n",
       "</style>\n",
       "<table border=\"1\" class=\"dataframe\">\n",
       "  <thead>\n",
       "    <tr style=\"text-align: right;\">\n",
       "      <th></th>\n",
       "      <th>Temperature</th>\n",
       "      <th>Humidity</th>\n",
       "      <th>Wind Speed</th>\n",
       "      <th>general diffuse flows</th>\n",
       "      <th>diffuse flows</th>\n",
       "    </tr>\n",
       "  </thead>\n",
       "  <tbody>\n",
       "    <tr>\n",
       "      <th>count</th>\n",
       "      <td>4.193200e+04</td>\n",
       "      <td>4.193200e+04</td>\n",
       "      <td>4.193200e+04</td>\n",
       "      <td>4.193200e+04</td>\n",
       "      <td>4.193200e+04</td>\n",
       "    </tr>\n",
       "    <tr>\n",
       "      <th>mean</th>\n",
       "      <td>-1.726059e-16</td>\n",
       "      <td>-1.815941e-14</td>\n",
       "      <td>-2.225156e-14</td>\n",
       "      <td>1.194384e-14</td>\n",
       "      <td>2.720123e-14</td>\n",
       "    </tr>\n",
       "    <tr>\n",
       "      <th>std</th>\n",
       "      <td>1.000000e+00</td>\n",
       "      <td>1.000000e+00</td>\n",
       "      <td>1.000000e+00</td>\n",
       "      <td>1.000000e+00</td>\n",
       "      <td>1.000000e+00</td>\n",
       "    </tr>\n",
       "    <tr>\n",
       "      <th>min</th>\n",
       "      <td>-2.742845e+00</td>\n",
       "      <td>-3.505201e+00</td>\n",
       "      <td>-8.745195e-01</td>\n",
       "      <td>-7.187839e-01</td>\n",
       "      <td>-6.283486e-01</td>\n",
       "    </tr>\n",
       "    <tr>\n",
       "      <th>25%</th>\n",
       "      <td>-7.869008e-01</td>\n",
       "      <td>-6.427036e-01</td>\n",
       "      <td>-8.627553e-01</td>\n",
       "      <td>-7.185623e-01</td>\n",
       "      <td>-6.275259e-01</td>\n",
       "    </tr>\n",
       "    <tr>\n",
       "      <th>50%</th>\n",
       "      <td>6.051269e-02</td>\n",
       "      <td>1.062274e-01</td>\n",
       "      <td>-8.585538e-01</td>\n",
       "      <td>-6.687039e-01</td>\n",
       "      <td>-5.346885e-01</td>\n",
       "    </tr>\n",
       "    <tr>\n",
       "      <th>75%</th>\n",
       "      <td>7.381072e-01</td>\n",
       "      <td>8.501779e-01</td>\n",
       "      <td>1.169940e+00</td>\n",
       "      <td>5.833309e-01</td>\n",
       "      <td>2.365217e-01</td>\n",
       "    </tr>\n",
       "    <tr>\n",
       "      <th>max</th>\n",
       "      <td>3.438397e+00</td>\n",
       "      <td>1.628369e+00</td>\n",
       "      <td>1.213215e+00</td>\n",
       "      <td>3.438150e+00</td>\n",
       "      <td>6.568441e+00</td>\n",
       "    </tr>\n",
       "  </tbody>\n",
       "</table>\n",
       "</div>"
      ],
      "text/plain": [
       "        Temperature      Humidity    Wind Speed  general diffuse flows  \\\n",
       "count  4.193200e+04  4.193200e+04  4.193200e+04           4.193200e+04   \n",
       "mean  -1.726059e-16 -1.815941e-14 -2.225156e-14           1.194384e-14   \n",
       "std    1.000000e+00  1.000000e+00  1.000000e+00           1.000000e+00   \n",
       "min   -2.742845e+00 -3.505201e+00 -8.745195e-01          -7.187839e-01   \n",
       "25%   -7.869008e-01 -6.427036e-01 -8.627553e-01          -7.185623e-01   \n",
       "50%    6.051269e-02  1.062274e-01 -8.585538e-01          -6.687039e-01   \n",
       "75%    7.381072e-01  8.501779e-01  1.169940e+00           5.833309e-01   \n",
       "max    3.438397e+00  1.628369e+00  1.213215e+00           3.438150e+00   \n",
       "\n",
       "       diffuse flows  \n",
       "count   4.193200e+04  \n",
       "mean    2.720123e-14  \n",
       "std     1.000000e+00  \n",
       "min    -6.283486e-01  \n",
       "25%    -6.275259e-01  \n",
       "50%    -5.346885e-01  \n",
       "75%     2.365217e-01  \n",
       "max     6.568441e+00  "
      ]
     },
     "execution_count": 8,
     "metadata": {},
     "output_type": "execute_result"
    }
   ],
   "source": [
    "X_train_norm2.describe()"
   ]
  },
  {
   "cell_type": "code",
   "execution_count": 9,
   "id": "ecb12728",
   "metadata": {},
   "outputs": [
    {
     "data": {
      "text/plain": [
       "(41932, 5)"
      ]
     },
     "execution_count": 9,
     "metadata": {},
     "output_type": "execute_result"
    }
   ],
   "source": [
    "X_train_norm2.shape"
   ]
  },
  {
   "cell_type": "code",
   "execution_count": 10,
   "id": "8dfb4650",
   "metadata": {},
   "outputs": [
    {
     "data": {
      "text/plain": [
       "(10484, 5)"
      ]
     },
     "execution_count": 10,
     "metadata": {},
     "output_type": "execute_result"
    }
   ],
   "source": [
    "X_test_norm.shape"
   ]
  },
  {
   "cell_type": "code",
   "execution_count": 11,
   "id": "5b0c3b70",
   "metadata": {},
   "outputs": [
    {
     "name": "stdout",
     "output_type": "stream",
     "text": [
      "Model: \"sequential\"\n",
      "_________________________________________________________________\n",
      " Layer (type)                Output Shape              Param #   \n",
      "=================================================================\n",
      " Dense_n1 (Dense)            (None, 6)                 36        \n",
      "                                                                 \n",
      " Dense_n2 (Dense)            (None, 12)                84        \n",
      "                                                                 \n",
      " Output (Dense)              (None, 1)                 13        \n",
      "                                                                 \n",
      "=================================================================\n",
      "Total params: 133\n",
      "Trainable params: 133\n",
      "Non-trainable params: 0\n",
      "_________________________________________________________________\n"
     ]
    }
   ],
   "source": [
    "shape=X_train_norm2.shape[1] \n",
    "\n",
    "model = keras.models.Sequential()\n",
    "model.add(keras.layers.Input(shape , name=\"InputLayer\")) \n",
    "model.add(keras.layers.Dense(6, activation='relu', name='Dense_n1'))\n",
    "model.add(keras.layers.Dense(12, activation='relu', name='Dense_n2'))\n",
    "model.add(keras.layers.Dense(1, name='Output'))\n",
    "\n",
    "model.compile(optimizer = 'adam',\n",
    "              loss      = 'mae',\n",
    "              metrics   = 'mae' )\n",
    "\n",
    "model.summary()"
   ]
  },
  {
   "cell_type": "code",
   "execution_count": 12,
   "id": "0ca57341",
   "metadata": {},
   "outputs": [
    {
     "name": "stdout",
     "output_type": "stream",
     "text": [
      "Epoch 1/60\n",
      "420/420 [==============================] - 1s 2ms/step - loss: 19258.3672 - mae: 19258.3672 - val_loss: 12053.2422 - val_mae: 12053.2422\n",
      "Epoch 2/60\n",
      "420/420 [==============================] - 1s 2ms/step - loss: 19101.7969 - mae: 19101.7969 - val_loss: 11813.1328 - val_mae: 11813.1328\n",
      "Epoch 3/60\n",
      "420/420 [==============================] - 1s 1ms/step - loss: 18567.1777 - mae: 18567.1777 - val_loss: 11227.4531 - val_mae: 11227.4531\n",
      "Epoch 4/60\n",
      "420/420 [==============================] - 1s 1ms/step - loss: 17496.0820 - mae: 17496.0820 - val_loss: 10208.8613 - val_mae: 10208.8613\n",
      "Epoch 5/60\n",
      "420/420 [==============================] - 1s 1ms/step - loss: 15790.4541 - mae: 15790.4541 - val_loss: 8700.8896 - val_mae: 8700.8896\n",
      "Epoch 6/60\n",
      "420/420 [==============================] - 1s 2ms/step - loss: 13465.4932 - mae: 13465.4932 - val_loss: 6825.6040 - val_mae: 6825.6040\n",
      "Epoch 7/60\n",
      "420/420 [==============================] - 1s 2ms/step - loss: 11052.9902 - mae: 11052.9902 - val_loss: 5243.2603 - val_mae: 5243.2603\n",
      "Epoch 8/60\n",
      "420/420 [==============================] - 1s 2ms/step - loss: 9104.5986 - mae: 9104.5986 - val_loss: 4404.7930 - val_mae: 4404.7930\n",
      "Epoch 9/60\n",
      "420/420 [==============================] - 1s 2ms/step - loss: 7806.3613 - mae: 7806.3613 - val_loss: 4240.3711 - val_mae: 4240.3711\n",
      "Epoch 10/60\n",
      "420/420 [==============================] - 1s 1ms/step - loss: 7021.0884 - mae: 7021.0884 - val_loss: 4490.9419 - val_mae: 4490.9419\n",
      "Epoch 11/60\n",
      "420/420 [==============================] - 1s 1ms/step - loss: 6594.4116 - mae: 6594.4116 - val_loss: 4700.8936 - val_mae: 4700.8936\n",
      "Epoch 12/60\n",
      "420/420 [==============================] - 1s 2ms/step - loss: 6307.9429 - mae: 6307.9429 - val_loss: 4769.2510 - val_mae: 4769.2510\n",
      "Epoch 13/60\n",
      "420/420 [==============================] - 1s 1ms/step - loss: 6054.9663 - mae: 6054.9663 - val_loss: 4735.0571 - val_mae: 4735.0571\n",
      "Epoch 14/60\n",
      "420/420 [==============================] - 1s 2ms/step - loss: 5813.4248 - mae: 5813.4248 - val_loss: 4685.0640 - val_mae: 4685.0640\n",
      "Epoch 15/60\n",
      "420/420 [==============================] - 1s 2ms/step - loss: 5588.3506 - mae: 5588.3506 - val_loss: 4581.1572 - val_mae: 4581.1572\n",
      "Epoch 16/60\n",
      "420/420 [==============================] - 1s 2ms/step - loss: 5376.1270 - mae: 5376.1270 - val_loss: 4573.2256 - val_mae: 4573.2261\n",
      "Epoch 17/60\n",
      "420/420 [==============================] - 1s 1ms/step - loss: 5177.3115 - mae: 5177.3115 - val_loss: 4568.0269 - val_mae: 4568.0269\n",
      "Epoch 18/60\n",
      "420/420 [==============================] - 1s 1ms/step - loss: 5001.4722 - mae: 5001.4722 - val_loss: 4657.1323 - val_mae: 4657.1323\n",
      "Epoch 19/60\n",
      "420/420 [==============================] - 1s 2ms/step - loss: 4848.1104 - mae: 4848.1104 - val_loss: 4744.3740 - val_mae: 4744.3740\n",
      "Epoch 20/60\n",
      "420/420 [==============================] - 1s 2ms/step - loss: 4720.3765 - mae: 4720.3765 - val_loss: 4868.3818 - val_mae: 4868.3818\n",
      "Epoch 21/60\n",
      "420/420 [==============================] - 1s 1ms/step - loss: 4617.0435 - mae: 4617.0439 - val_loss: 4919.0732 - val_mae: 4919.0732\n",
      "Epoch 22/60\n",
      "420/420 [==============================] - 1s 1ms/step - loss: 4534.0215 - mae: 4534.0215 - val_loss: 4969.5044 - val_mae: 4969.5044\n",
      "Epoch 23/60\n",
      "420/420 [==============================] - 1s 1ms/step - loss: 4469.8765 - mae: 4469.8765 - val_loss: 5016.8003 - val_mae: 5016.8003\n",
      "Epoch 24/60\n",
      "420/420 [==============================] - 1s 2ms/step - loss: 4421.4209 - mae: 4421.4209 - val_loss: 4990.1875 - val_mae: 4990.1875\n",
      "Epoch 25/60\n",
      "420/420 [==============================] - 1s 2ms/step - loss: 4384.7134 - mae: 4384.7134 - val_loss: 5041.2856 - val_mae: 5041.2856\n",
      "Epoch 26/60\n",
      "420/420 [==============================] - 1s 2ms/step - loss: 4358.6499 - mae: 4358.6499 - val_loss: 5052.7271 - val_mae: 5052.7271\n",
      "Epoch 27/60\n",
      "420/420 [==============================] - 1s 2ms/step - loss: 4339.7607 - mae: 4339.7603 - val_loss: 5109.7764 - val_mae: 5109.7769\n",
      "Epoch 28/60\n",
      "420/420 [==============================] - 1s 2ms/step - loss: 4325.6245 - mae: 4325.6245 - val_loss: 5109.1030 - val_mae: 5109.1030\n",
      "Epoch 29/60\n",
      "420/420 [==============================] - 1s 2ms/step - loss: 4314.8369 - mae: 4314.8374 - val_loss: 5011.5879 - val_mae: 5011.5879\n",
      "Epoch 30/60\n",
      "420/420 [==============================] - 1s 1ms/step - loss: 4306.6948 - mae: 4306.6948 - val_loss: 5153.8052 - val_mae: 5153.8052\n",
      "Epoch 31/60\n",
      "420/420 [==============================] - 1s 1ms/step - loss: 4299.8145 - mae: 4299.8145 - val_loss: 5133.7095 - val_mae: 5133.7095\n",
      "Epoch 32/60\n",
      "420/420 [==============================] - 1s 1ms/step - loss: 4294.0405 - mae: 4294.0405 - val_loss: 5127.1353 - val_mae: 5127.1353\n",
      "Epoch 33/60\n",
      "420/420 [==============================] - 1s 2ms/step - loss: 4288.8193 - mae: 4288.8193 - val_loss: 5181.4897 - val_mae: 5181.4897\n",
      "Epoch 34/60\n",
      "420/420 [==============================] - 1s 1ms/step - loss: 4284.2402 - mae: 4284.2402 - val_loss: 5075.5532 - val_mae: 5075.5532\n",
      "Epoch 35/60\n",
      "420/420 [==============================] - 1s 1ms/step - loss: 4280.3950 - mae: 4280.3950 - val_loss: 5143.4116 - val_mae: 5143.4116\n",
      "Epoch 36/60\n",
      "420/420 [==============================] - 1s 2ms/step - loss: 4276.6753 - mae: 4276.6753 - val_loss: 5099.2231 - val_mae: 5099.2231\n",
      "Epoch 37/60\n",
      "420/420 [==============================] - 1s 2ms/step - loss: 4273.6963 - mae: 4273.6963 - val_loss: 5137.5278 - val_mae: 5137.5273\n",
      "Epoch 38/60\n",
      "420/420 [==============================] - 1s 2ms/step - loss: 4270.4810 - mae: 4270.4810 - val_loss: 5079.3994 - val_mae: 5079.3994\n",
      "Epoch 39/60\n",
      "420/420 [==============================] - 1s 2ms/step - loss: 4267.7568 - mae: 4267.7568 - val_loss: 5132.5894 - val_mae: 5132.5894\n",
      "Epoch 40/60\n",
      "420/420 [==============================] - 1s 2ms/step - loss: 4265.2686 - mae: 4265.2686 - val_loss: 5097.8174 - val_mae: 5097.8174\n",
      "Epoch 41/60\n",
      "420/420 [==============================] - 1s 1ms/step - loss: 4262.5098 - mae: 4262.5098 - val_loss: 5162.0776 - val_mae: 5162.0776\n",
      "Epoch 42/60\n",
      "420/420 [==============================] - 1s 1ms/step - loss: 4260.3970 - mae: 4260.3970 - val_loss: 5116.7603 - val_mae: 5116.7603\n",
      "Epoch 43/60\n",
      "420/420 [==============================] - 1s 2ms/step - loss: 4257.9150 - mae: 4257.9150 - val_loss: 5081.4443 - val_mae: 5081.4443\n",
      "Epoch 44/60\n",
      "420/420 [==============================] - 1s 1ms/step - loss: 4255.9741 - mae: 4255.9746 - val_loss: 5141.6167 - val_mae: 5141.6167\n",
      "Epoch 45/60\n",
      "420/420 [==============================] - 1s 1ms/step - loss: 4253.3638 - mae: 4253.3638 - val_loss: 5037.5098 - val_mae: 5037.5098\n",
      "Epoch 46/60\n",
      "420/420 [==============================] - 1s 1ms/step - loss: 4251.4146 - mae: 4251.4146 - val_loss: 5152.6938 - val_mae: 5152.6938\n",
      "Epoch 47/60\n",
      "420/420 [==============================] - 1s 2ms/step - loss: 4249.3818 - mae: 4249.3818 - val_loss: 5134.3477 - val_mae: 5134.3477\n",
      "Epoch 48/60\n",
      "420/420 [==============================] - 1s 1ms/step - loss: 4247.1348 - mae: 4247.1348 - val_loss: 5094.5298 - val_mae: 5094.5298\n",
      "Epoch 49/60\n",
      "420/420 [==============================] - 1s 1ms/step - loss: 4244.6206 - mae: 4244.6206 - val_loss: 5157.4434 - val_mae: 5157.4434\n",
      "Epoch 50/60\n",
      "420/420 [==============================] - 1s 1ms/step - loss: 4242.4575 - mae: 4242.4575 - val_loss: 5072.3276 - val_mae: 5072.3276\n",
      "Epoch 51/60\n",
      "420/420 [==============================] - 1s 1ms/step - loss: 4240.3013 - mae: 4240.3013 - val_loss: 5081.9590 - val_mae: 5081.9590\n",
      "Epoch 52/60\n",
      "420/420 [==============================] - 1s 1ms/step - loss: 4237.8862 - mae: 4237.8862 - val_loss: 5126.7178 - val_mae: 5126.7178\n",
      "Epoch 53/60\n",
      "420/420 [==============================] - 1s 2ms/step - loss: 4235.2939 - mae: 4235.2939 - val_loss: 5073.0967 - val_mae: 5073.0967\n",
      "Epoch 54/60\n",
      "420/420 [==============================] - 1s 2ms/step - loss: 4232.3086 - mae: 4232.3086 - val_loss: 5142.9580 - val_mae: 5142.9580\n",
      "Epoch 55/60\n",
      "420/420 [==============================] - 1s 1ms/step - loss: 4228.8877 - mae: 4228.8872 - val_loss: 5089.1279 - val_mae: 5089.1279\n",
      "Epoch 56/60\n",
      "420/420 [==============================] - 1s 1ms/step - loss: 4224.1729 - mae: 4224.1729 - val_loss: 5108.9229 - val_mae: 5108.9238\n",
      "Epoch 57/60\n"
     ]
    },
    {
     "name": "stdout",
     "output_type": "stream",
     "text": [
      "420/420 [==============================] - 1s 1ms/step - loss: 4218.3970 - mae: 4218.3970 - val_loss: 5071.4165 - val_mae: 5071.4165\n",
      "Epoch 58/60\n",
      "420/420 [==============================] - 1s 1ms/step - loss: 4211.4414 - mae: 4211.4414 - val_loss: 5062.1519 - val_mae: 5062.1519\n",
      "Epoch 59/60\n",
      "420/420 [==============================] - 1s 1ms/step - loss: 4203.8506 - mae: 4203.8506 - val_loss: 5053.0703 - val_mae: 5053.0703\n",
      "Epoch 60/60\n",
      "420/420 [==============================] - 1s 2ms/step - loss: 4195.6499 - mae: 4195.6499 - val_loss: 5132.8721 - val_mae: 5132.8721\n"
     ]
    }
   ],
   "source": [
    "epochs = 60\n",
    "\n",
    "history = model.fit(X_train_norm2,\n",
    "                    y_train,\n",
    "                    epochs          = epochs,\n",
    "                    batch_size      = 100,\n",
    "                    verbose         =  1,\n",
    "                    validation_data = (X_test_norm, y_test))"
   ]
  },
  {
   "cell_type": "code",
   "execution_count": 13,
   "id": "49b4b985",
   "metadata": {},
   "outputs": [
    {
     "name": "stdout",
     "output_type": "stream",
     "text": [
      "X_test / loss      : 5132.8730\n",
      "X_test / mae       : 5132.8730\n"
     ]
    }
   ],
   "source": [
    "score = model.evaluate(X_test_norm, y_test, verbose=0)\n",
    "\n",
    "print('X_test / loss      : {:5.4f}'.format(score[0]))\n",
    "print('X_test / mae       : {:5.4f}'.format(score[1]))\n"
   ]
  },
  {
   "cell_type": "code",
   "execution_count": 14,
   "id": "b5ca6b1e",
   "metadata": {},
   "outputs": [
    {
     "data": {
      "text/plain": [
       "Text(0.5, 1.0, 'Training and Validation Mae')"
      ]
     },
     "execution_count": 14,
     "metadata": {},
     "output_type": "execute_result"
    },
    {
     "data": {
      "image/png": "[encoded data removed]",
      "text/plain": [
       "<Figure size 800x800 with 1 Axes>"
      ]
     },
     "metadata": {},
     "output_type": "display_data"
    }
   ],
   "source": [
    "mae = history.history['mae']\n",
    "val_mae = history.history['val_mae']\n",
    "\n",
    "loss = history.history['loss']\n",
    "val_loss = history.history['val_loss']\n",
    "\n",
    "epochs_range = range(epochs)\n",
    "\n",
    "plt.figure(figsize=(8, 8))\n",
    "plt.plot(epochs_range, mae, label='Training Mae')\n",
    "plt.plot(epochs_range, val_mae, label='Validation Mae')\n",
    "plt.legend(loc='lower right')\n",
    "plt.title('Training and Validation Mae')\n"
   ]
  },
  {
   "cell_type": "code",
   "execution_count": 15,
   "id": "92130a85",
   "metadata": {},
   "outputs": [],
   "source": [
    "# avec heure\n",
    "consumptionTetuan['DateTime']=pd.to_datetime(consumptionTetuan['DateTime']) \n",
    "def conv(data):\n",
    "    data['month']=data['DateTime'].dt.month\n",
    "    data['day']=data['DateTime'].dt.day\n",
    "    data['hour']=data['DateTime'].dt.hour    \n",
    "    return data\n",
    "\n",
    "consumptionTetuan = conv(consumptionTetuan)"
   ]
  },
  {
   "cell_type": "code",
   "execution_count": 16,
   "id": "8991890e",
   "metadata": {},
   "outputs": [],
   "source": [
    "X = consumptionTetuan.drop(['DateTime', 'Zone 1 Power Consumption', 'Zone 2  Power Consumption', 'Zone 3  Power Consumption', 'month', 'day'], axis = 1)\n",
    "y = zone3\n",
    "\n",
    "X_train, X_test, y_train, y_test = train_test_split(X, y, test_size = 0.2, random_state = 0, shuffle=False)"
   ]
  },
  {
   "cell_type": "code",
   "execution_count": 17,
   "id": "2727c9aa",
   "metadata": {},
   "outputs": [],
   "source": [
    "# En apppliquant les formules\n",
    "\n",
    "mean = X_train.mean()\n",
    "std  = X_train.std()\n",
    "X_train_normHour = (X_train - mean) / std\n",
    "X_test_norm = (X_test - mean) / std"
   ]
  },
  {
   "cell_type": "code",
   "execution_count": 18,
   "id": "e3b7d2ce",
   "metadata": {},
   "outputs": [
    {
     "data": {
      "text/html": [
       "<div>\n",
       "<style scoped>\n",
       "    .dataframe tbody tr th:only-of-type {\n",
       "        vertical-align: middle;\n",
       "    }\n",
       "\n",
       "    .dataframe tbody tr th {\n",
       "        vertical-align: top;\n",
       "    }\n",
       "\n",
       "    .dataframe thead th {\n",
       "        text-align: right;\n",
       "    }\n",
       "</style>\n",
       "<table border=\"1\" class=\"dataframe\">\n",
       "  <thead>\n",
       "    <tr style=\"text-align: right;\">\n",
       "      <th></th>\n",
       "      <th>Temperature</th>\n",
       "      <th>Humidity</th>\n",
       "      <th>Wind Speed</th>\n",
       "      <th>general diffuse flows</th>\n",
       "      <th>diffuse flows</th>\n",
       "      <th>hour</th>\n",
       "    </tr>\n",
       "  </thead>\n",
       "  <tbody>\n",
       "    <tr>\n",
       "      <th>0</th>\n",
       "      <td>-2.185974</td>\n",
       "      <td>0.383263</td>\n",
       "      <td>-0.860655</td>\n",
       "      <td>-0.718616</td>\n",
       "      <td>-0.627580</td>\n",
       "      <td>-1.659833</td>\n",
       "    </tr>\n",
       "    <tr>\n",
       "      <th>1</th>\n",
       "      <td>-2.210354</td>\n",
       "      <td>0.426842</td>\n",
       "      <td>-0.860655</td>\n",
       "      <td>-0.718548</td>\n",
       "      <td>-0.627841</td>\n",
       "      <td>-1.659833</td>\n",
       "    </tr>\n",
       "    <tr>\n",
       "      <th>2</th>\n",
       "      <td>-2.227336</td>\n",
       "      <td>0.426842</td>\n",
       "      <td>-0.861915</td>\n",
       "      <td>-0.718577</td>\n",
       "      <td>-0.627726</td>\n",
       "      <td>-1.659833</td>\n",
       "    </tr>\n",
       "    <tr>\n",
       "      <th>3</th>\n",
       "      <td>-2.259618</td>\n",
       "      <td>0.457970</td>\n",
       "      <td>-0.860655</td>\n",
       "      <td>-0.718473</td>\n",
       "      <td>-0.627757</td>\n",
       "      <td>-1.659833</td>\n",
       "    </tr>\n",
       "    <tr>\n",
       "      <th>4</th>\n",
       "      <td>-2.293245</td>\n",
       "      <td>0.501548</td>\n",
       "      <td>-0.861495</td>\n",
       "      <td>-0.718627</td>\n",
       "      <td>-0.627841</td>\n",
       "      <td>-1.659833</td>\n",
       "    </tr>\n",
       "  </tbody>\n",
       "</table>\n",
       "</div>"
      ],
      "text/plain": [
       "   Temperature  Humidity  Wind Speed  general diffuse flows  diffuse flows  \\\n",
       "0    -2.185974  0.383263   -0.860655              -0.718616      -0.627580   \n",
       "1    -2.210354  0.426842   -0.860655              -0.718548      -0.627841   \n",
       "2    -2.227336  0.426842   -0.861915              -0.718577      -0.627726   \n",
       "3    -2.259618  0.457970   -0.860655              -0.718473      -0.627757   \n",
       "4    -2.293245  0.501548   -0.861495              -0.718627      -0.627841   \n",
       "\n",
       "       hour  \n",
       "0 -1.659833  \n",
       "1 -1.659833  \n",
       "2 -1.659833  \n",
       "3 -1.659833  \n",
       "4 -1.659833  "
      ]
     },
     "execution_count": 18,
     "metadata": {},
     "output_type": "execute_result"
    }
   ],
   "source": [
    "X_train_normHour.head()"
   ]
  },
  {
   "cell_type": "code",
   "execution_count": 19,
   "id": "06cb01e2",
   "metadata": {},
   "outputs": [
    {
     "data": {
      "text/html": [
       "<div>\n",
       "<style scoped>\n",
       "    .dataframe tbody tr th:only-of-type {\n",
       "        vertical-align: middle;\n",
       "    }\n",
       "\n",
       "    .dataframe tbody tr th {\n",
       "        vertical-align: top;\n",
       "    }\n",
       "\n",
       "    .dataframe thead th {\n",
       "        text-align: right;\n",
       "    }\n",
       "</style>\n",
       "<table border=\"1\" class=\"dataframe\">\n",
       "  <thead>\n",
       "    <tr style=\"text-align: right;\">\n",
       "      <th></th>\n",
       "      <th>Temperature</th>\n",
       "      <th>Humidity</th>\n",
       "      <th>Wind Speed</th>\n",
       "      <th>general diffuse flows</th>\n",
       "      <th>diffuse flows</th>\n",
       "      <th>hour</th>\n",
       "    </tr>\n",
       "  </thead>\n",
       "  <tbody>\n",
       "    <tr>\n",
       "      <th>count</th>\n",
       "      <td>4.193200e+04</td>\n",
       "      <td>4.193200e+04</td>\n",
       "      <td>4.193200e+04</td>\n",
       "      <td>4.193200e+04</td>\n",
       "      <td>4.193200e+04</td>\n",
       "      <td>4.193200e+04</td>\n",
       "    </tr>\n",
       "    <tr>\n",
       "      <th>mean</th>\n",
       "      <td>-1.726059e-16</td>\n",
       "      <td>-1.815941e-14</td>\n",
       "      <td>-2.225156e-14</td>\n",
       "      <td>1.194384e-14</td>\n",
       "      <td>2.720123e-14</td>\n",
       "      <td>-2.289709e-16</td>\n",
       "    </tr>\n",
       "    <tr>\n",
       "      <th>std</th>\n",
       "      <td>1.000000e+00</td>\n",
       "      <td>1.000000e+00</td>\n",
       "      <td>1.000000e+00</td>\n",
       "      <td>1.000000e+00</td>\n",
       "      <td>1.000000e+00</td>\n",
       "      <td>1.000000e+00</td>\n",
       "    </tr>\n",
       "    <tr>\n",
       "      <th>min</th>\n",
       "      <td>-2.742845e+00</td>\n",
       "      <td>-3.505201e+00</td>\n",
       "      <td>-8.745195e-01</td>\n",
       "      <td>-7.187839e-01</td>\n",
       "      <td>-6.283486e-01</td>\n",
       "      <td>-1.659833e+00</td>\n",
       "    </tr>\n",
       "    <tr>\n",
       "      <th>25%</th>\n",
       "      <td>-7.869008e-01</td>\n",
       "      <td>-6.427036e-01</td>\n",
       "      <td>-8.627553e-01</td>\n",
       "      <td>-7.185623e-01</td>\n",
       "      <td>-6.275259e-01</td>\n",
       "      <td>-9.377622e-01</td>\n",
       "    </tr>\n",
       "    <tr>\n",
       "      <th>50%</th>\n",
       "      <td>6.051269e-02</td>\n",
       "      <td>1.062274e-01</td>\n",
       "      <td>-8.585538e-01</td>\n",
       "      <td>-6.687039e-01</td>\n",
       "      <td>-5.346885e-01</td>\n",
       "      <td>-7.127720e-02</td>\n",
       "    </tr>\n",
       "    <tr>\n",
       "      <th>75%</th>\n",
       "      <td>7.381072e-01</td>\n",
       "      <td>8.501779e-01</td>\n",
       "      <td>1.169940e+00</td>\n",
       "      <td>5.833309e-01</td>\n",
       "      <td>2.365217e-01</td>\n",
       "      <td>7.952078e-01</td>\n",
       "    </tr>\n",
       "    <tr>\n",
       "      <th>max</th>\n",
       "      <td>3.438397e+00</td>\n",
       "      <td>1.628369e+00</td>\n",
       "      <td>1.213215e+00</td>\n",
       "      <td>3.438150e+00</td>\n",
       "      <td>6.568441e+00</td>\n",
       "      <td>1.661693e+00</td>\n",
       "    </tr>\n",
       "  </tbody>\n",
       "</table>\n",
       "</div>"
      ],
      "text/plain": [
       "        Temperature      Humidity    Wind Speed  general diffuse flows  \\\n",
       "count  4.193200e+04  4.193200e+04  4.193200e+04           4.193200e+04   \n",
       "mean  -1.726059e-16 -1.815941e-14 -2.225156e-14           1.194384e-14   \n",
       "std    1.000000e+00  1.000000e+00  1.000000e+00           1.000000e+00   \n",
       "min   -2.742845e+00 -3.505201e+00 -8.745195e-01          -7.187839e-01   \n",
       "25%   -7.869008e-01 -6.427036e-01 -8.627553e-01          -7.185623e-01   \n",
       "50%    6.051269e-02  1.062274e-01 -8.585538e-01          -6.687039e-01   \n",
       "75%    7.381072e-01  8.501779e-01  1.169940e+00           5.833309e-01   \n",
       "max    3.438397e+00  1.628369e+00  1.213215e+00           3.438150e+00   \n",
       "\n",
       "       diffuse flows          hour  \n",
       "count   4.193200e+04  4.193200e+04  \n",
       "mean    2.720123e-14 -2.289709e-16  \n",
       "std     1.000000e+00  1.000000e+00  \n",
       "min    -6.283486e-01 -1.659833e+00  \n",
       "25%    -6.275259e-01 -9.377622e-01  \n",
       "50%    -5.346885e-01 -7.127720e-02  \n",
       "75%     2.365217e-01  7.952078e-01  \n",
       "max     6.568441e+00  1.661693e+00  "
      ]
     },
     "execution_count": 19,
     "metadata": {},
     "output_type": "execute_result"
    }
   ],
   "source": [
    "X_train_normHour.describe()"
   ]
  },
  {
   "cell_type": "code",
   "execution_count": 20,
   "id": "0fde274a",
   "metadata": {},
   "outputs": [
    {
     "data": {
      "text/plain": [
       "(41932, 6)"
      ]
     },
     "execution_count": 20,
     "metadata": {},
     "output_type": "execute_result"
    }
   ],
   "source": [
    "X_train_normHour.shape"
   ]
  },
  {
   "cell_type": "code",
   "execution_count": 21,
   "id": "99528dc1",
   "metadata": {},
   "outputs": [
    {
     "name": "stdout",
     "output_type": "stream",
     "text": [
      "Model: \"sequential_1\"\n",
      "_________________________________________________________________\n",
      " Layer (type)                Output Shape              Param #   \n",
      "=================================================================\n",
      " Dense_n1 (Dense)            (None, 7)                 49        \n",
      "                                                                 \n",
      " Dense_n2 (Dense)            (None, 12)                96        \n",
      "                                                                 \n",
      " Output (Dense)              (None, 1)                 13        \n",
      "                                                                 \n",
      "=================================================================\n",
      "Total params: 158\n",
      "Trainable params: 158\n",
      "Non-trainable params: 0\n",
      "_________________________________________________________________\n"
     ]
    }
   ],
   "source": [
    "shape=X_train_normHour.shape[1] \n",
    "\n",
    "model2 = keras.models.Sequential()\n",
    "model2.add(keras.layers.Input(shape , name=\"InputLayer\")) \n",
    "model2.add(keras.layers.Dense(7, activation='relu', name='Dense_n1'))\n",
    "model2.add(keras.layers.Dense(12, activation='relu', name='Dense_n2'))\n",
    "model2.add(keras.layers.Dense(1, name='Output'))\n",
    "\n",
    "model2.compile(optimizer = 'adam',\n",
    "              loss      = 'mae',\n",
    "              metrics   = 'mae' )\n",
    "\n",
    "model2.summary()"
   ]
  },
  {
   "cell_type": "code",
   "execution_count": 22,
   "id": "792bc999",
   "metadata": {},
   "outputs": [
    {
     "name": "stdout",
     "output_type": "stream",
     "text": [
      "Epoch 1/40\n",
      "420/420 [==============================] - 1s 2ms/step - loss: 19257.1953 - mae: 19257.1953 - val_loss: 12043.9805 - val_mae: 12043.9805\n",
      "Epoch 2/40\n",
      "420/420 [==============================] - 1s 2ms/step - loss: 19057.6582 - mae: 19057.6582 - val_loss: 11650.5830 - val_mae: 11650.5830\n",
      "Epoch 3/40\n",
      "420/420 [==============================] - 1s 1ms/step - loss: 18335.9121 - mae: 18335.9121 - val_loss: 10626.7402 - val_mae: 10626.7402\n",
      "Epoch 4/40\n",
      "420/420 [==============================] - 1s 1ms/step - loss: 16864.1914 - mae: 16864.1914 - val_loss: 8795.4453 - val_mae: 8795.4453\n",
      "Epoch 5/40\n",
      "420/420 [==============================] - 1s 1ms/step - loss: 14502.6514 - mae: 14502.6514 - val_loss: 6463.8047 - val_mae: 6463.8047\n",
      "Epoch 6/40\n",
      "420/420 [==============================] - 1s 1ms/step - loss: 11443.6465 - mae: 11443.6465 - val_loss: 5308.4937 - val_mae: 5308.4937\n",
      "Epoch 7/40\n",
      "420/420 [==============================] - 1s 2ms/step - loss: 9184.1162 - mae: 9184.1162 - val_loss: 4869.1479 - val_mae: 4869.1479\n",
      "Epoch 8/40\n",
      "420/420 [==============================] - 1s 2ms/step - loss: 7856.2412 - mae: 7856.2412 - val_loss: 4606.8774 - val_mae: 4606.8779\n",
      "Epoch 9/40\n",
      "420/420 [==============================] - 1s 2ms/step - loss: 6946.9028 - mae: 6946.9028 - val_loss: 4525.6553 - val_mae: 4525.6553\n",
      "Epoch 10/40\n",
      "420/420 [==============================] - 1s 2ms/step - loss: 6212.3188 - mae: 6212.3188 - val_loss: 4670.4912 - val_mae: 4670.4912\n",
      "Epoch 11/40\n",
      "420/420 [==============================] - 1s 2ms/step - loss: 5590.9922 - mae: 5590.9922 - val_loss: 4950.0933 - val_mae: 4950.0933\n",
      "Epoch 12/40\n",
      "420/420 [==============================] - 1s 2ms/step - loss: 5131.2349 - mae: 5131.2349 - val_loss: 5140.2192 - val_mae: 5140.2192\n",
      "Epoch 13/40\n",
      "420/420 [==============================] - 1s 2ms/step - loss: 4780.4883 - mae: 4780.4883 - val_loss: 5325.3467 - val_mae: 5325.3467\n",
      "Epoch 14/40\n",
      "420/420 [==============================] - 1s 2ms/step - loss: 4506.2979 - mae: 4506.2979 - val_loss: 5451.6431 - val_mae: 5451.6431\n",
      "Epoch 15/40\n",
      "420/420 [==============================] - 1s 2ms/step - loss: 4300.9346 - mae: 4300.9346 - val_loss: 5440.4326 - val_mae: 5440.4326\n",
      "Epoch 16/40\n",
      "420/420 [==============================] - 1s 2ms/step - loss: 4142.2271 - mae: 4142.2271 - val_loss: 5495.2490 - val_mae: 5495.2490\n",
      "Epoch 17/40\n",
      "420/420 [==============================] - 1s 2ms/step - loss: 4010.0300 - mae: 4010.0300 - val_loss: 5522.7588 - val_mae: 5522.7588\n",
      "Epoch 18/40\n",
      "420/420 [==============================] - 1s 1ms/step - loss: 3898.3059 - mae: 3898.3059 - val_loss: 5595.1245 - val_mae: 5595.1245\n",
      "Epoch 19/40\n",
      "420/420 [==============================] - 1s 1ms/step - loss: 3802.8904 - mae: 3802.8904 - val_loss: 5621.0645 - val_mae: 5621.0645\n",
      "Epoch 20/40\n",
      "420/420 [==============================] - 1s 2ms/step - loss: 3720.2563 - mae: 3720.2563 - val_loss: 5613.5278 - val_mae: 5613.5278\n",
      "Epoch 21/40\n",
      "420/420 [==============================] - 1s 2ms/step - loss: 3647.5386 - mae: 3647.5386 - val_loss: 5655.7651 - val_mae: 5655.7651\n",
      "Epoch 22/40\n",
      "420/420 [==============================] - 1s 2ms/step - loss: 3583.5378 - mae: 3583.5378 - val_loss: 5671.1709 - val_mae: 5671.1709\n",
      "Epoch 23/40\n",
      "420/420 [==============================] - 1s 2ms/step - loss: 3528.2839 - mae: 3528.2839 - val_loss: 5671.5190 - val_mae: 5671.5190\n",
      "Epoch 24/40\n",
      "420/420 [==============================] - 1s 2ms/step - loss: 3480.8567 - mae: 3480.8567 - val_loss: 5743.4385 - val_mae: 5743.4385\n",
      "Epoch 25/40\n",
      "420/420 [==============================] - 1s 2ms/step - loss: 3439.9917 - mae: 3439.9917 - val_loss: 5707.5698 - val_mae: 5707.5693\n",
      "Epoch 26/40\n",
      "420/420 [==============================] - 1s 2ms/step - loss: 3407.0176 - mae: 3407.0176 - val_loss: 5756.5020 - val_mae: 5756.5020\n",
      "Epoch 27/40\n",
      "420/420 [==============================] - 1s 2ms/step - loss: 3379.5806 - mae: 3379.5806 - val_loss: 5707.9858 - val_mae: 5707.9858\n",
      "Epoch 28/40\n",
      "420/420 [==============================] - 1s 1ms/step - loss: 3356.1917 - mae: 3356.1917 - val_loss: 5761.7793 - val_mae: 5761.7793\n",
      "Epoch 29/40\n",
      "420/420 [==============================] - 1s 2ms/step - loss: 3335.8569 - mae: 3335.8569 - val_loss: 5697.7397 - val_mae: 5697.7397\n",
      "Epoch 30/40\n",
      "420/420 [==============================] - 1s 1ms/step - loss: 3316.9573 - mae: 3316.9573 - val_loss: 5726.1587 - val_mae: 5726.1587\n",
      "Epoch 31/40\n",
      "420/420 [==============================] - 1s 1ms/step - loss: 3298.8672 - mae: 3298.8672 - val_loss: 5693.9351 - val_mae: 5693.9351\n",
      "Epoch 32/40\n",
      "420/420 [==============================] - 1s 2ms/step - loss: 3282.1177 - mae: 3282.1177 - val_loss: 5672.9478 - val_mae: 5672.9478\n",
      "Epoch 33/40\n",
      "420/420 [==============================] - 1s 1ms/step - loss: 3266.0525 - mae: 3266.0525 - val_loss: 5714.0610 - val_mae: 5714.0610\n",
      "Epoch 34/40\n",
      "420/420 [==============================] - 1s 1ms/step - loss: 3250.7629 - mae: 3250.7629 - val_loss: 5684.3574 - val_mae: 5684.3574\n",
      "Epoch 35/40\n",
      "420/420 [==============================] - 1s 1ms/step - loss: 3236.0544 - mae: 3236.0544 - val_loss: 5678.4131 - val_mae: 5678.4131\n",
      "Epoch 36/40\n",
      "420/420 [==============================] - 1s 1ms/step - loss: 3222.1123 - mae: 3222.1123 - val_loss: 5709.8101 - val_mae: 5709.8101\n",
      "Epoch 37/40\n",
      "420/420 [==============================] - 1s 2ms/step - loss: 3208.6113 - mae: 3208.6113 - val_loss: 5678.4526 - val_mae: 5678.4526\n",
      "Epoch 38/40\n",
      "420/420 [==============================] - 1s 1ms/step - loss: 3195.8726 - mae: 3195.8726 - val_loss: 5704.3057 - val_mae: 5704.3057\n",
      "Epoch 39/40\n",
      "420/420 [==============================] - 1s 1ms/step - loss: 3184.4839 - mae: 3184.4839 - val_loss: 5694.5024 - val_mae: 5694.5024\n",
      "Epoch 40/40\n",
      "420/420 [==============================] - 1s 1ms/step - loss: 3173.8586 - mae: 3173.8586 - val_loss: 5686.5210 - val_mae: 5686.5210\n"
     ]
    }
   ],
   "source": [
    "epochs = 40\n",
    "\n",
    "history = model2.fit(X_train_normHour,\n",
    "                    y_train,\n",
    "                    epochs          = epochs,\n",
    "                    batch_size      = 100,\n",
    "                    verbose         =  1,\n",
    "                    validation_data = (X_test_norm, y_test))"
   ]
  },
  {
   "cell_type": "code",
   "execution_count": 23,
   "id": "be358f02",
   "metadata": {},
   "outputs": [
    {
     "data": {
      "text/plain": [
       "Text(0.5, 1.0, 'Training and Validation Mae')"
      ]
     },
     "execution_count": 23,
     "metadata": {},
     "output_type": "execute_result"
    },
    {
     "data": {
      "image/png": "[encoded data removed]",
      "text/plain": [
       "<Figure size 800x800 with 1 Axes>"
      ]
     },
     "metadata": {},
     "output_type": "display_data"
    }
   ],
   "source": [
    "mae = history.history['mae']\n",
    "val_mae = history.history['val_mae']\n",
    "\n",
    "loss = history.history['loss']\n",
    "val_loss = history.history['val_loss']\n",
    "\n",
    "epochs_range = range(epochs)\n",
    "\n",
    "plt.figure(figsize=(8, 8))\n",
    "plt.plot(epochs_range, mae, label='Training Mae')\n",
    "plt.plot(epochs_range, val_mae, label='Validation Mae')\n",
    "plt.legend(loc='lower right')\n",
    "plt.title('Training and Validation Mae')\n"
   ]
  },
  {
   "cell_type": "code",
   "execution_count": 24,
   "id": "9a32e08b",
   "metadata": {},
   "outputs": [
    {
     "name": "stdout",
     "output_type": "stream",
     "text": [
      "X_test / loss      : 5686.5190\n",
      "X_test / mae       : 5686.5190\n"
     ]
    }
   ],
   "source": [
    "score = model2.evaluate(X_test_norm, y_test, verbose=0)\n",
    "\n",
    "print('X_test / loss      : {:5.4f}'.format(score[0]))\n",
    "print('X_test / mae       : {:5.4f}'.format(score[1]))\n"
   ]
  },
  {
   "cell_type": "code",
   "execution_count": 25,
   "id": "bac4b2ab",
   "metadata": {},
   "outputs": [
    {
     "name": "stdout",
     "output_type": "stream",
     "text": [
      "328/328 [==============================] - 0s 1ms/step\n"
     ]
    }
   ],
   "source": [
    "predictions = model2.predict(X_test_norm)"
   ]
  },
  {
   "cell_type": "code",
   "execution_count": 26,
   "id": "aaf5a522",
   "metadata": {},
   "outputs": [
    {
     "data": {
      "text/plain": [
       "array([[14050.933],\n",
       "       [14052.394],\n",
       "       [13649.938],\n",
       "       ...,\n",
       "       [25075.393],\n",
       "       [25078.713],\n",
       "       [25083.674]], dtype=float32)"
      ]
     },
     "execution_count": 26,
     "metadata": {},
     "output_type": "execute_result"
    }
   ],
   "source": [
    "predictions"
   ]
  },
  {
   "cell_type": "code",
   "execution_count": 27,
   "id": "8ad4b210",
   "metadata": {},
   "outputs": [
    {
     "name": "stdout",
     "output_type": "stream",
     "text": [
      "MAE = 5686.518636882737\n"
     ]
    }
   ],
   "source": [
    "print(\"MAE =\", mean_absolute_error(y_test, predictions))"
   ]
  },
  {
   "cell_type": "code",
   "execution_count": 28,
   "id": "be08fe92",
   "metadata": {},
   "outputs": [
    {
     "data": {
      "text/plain": [
       "41932    12348.69301\n",
       "41933    12593.79939\n",
       "41934    12693.00912\n",
       "41935    12529.60486\n",
       "41936    12220.30395\n",
       "            ...     \n",
       "52411    14780.31212\n",
       "52412    14428.81152\n",
       "52413    13806.48259\n",
       "52414    13512.60504\n",
       "52415    13345.49820\n",
       "Name: Zone 3  Power Consumption, Length: 10484, dtype: float64"
      ]
     },
     "execution_count": 28,
     "metadata": {},
     "output_type": "execute_result"
    }
   ],
   "source": [
    "y_test"
   ]
  },
  {
   "cell_type": "code",
   "execution_count": null,
   "id": "536e7287",
   "metadata": {},
   "outputs": [],
   "source": []
  }
 ],
 "metadata": {
  "kernelspec": {
   "display_name": "Python 3 (ipykernel)",
   "language": "python",
   "name": "python3"
  },
  "language_info": {
   "codemirror_mode": {
    "name": "ipython",
    "version": 3
   },
   "file_extension": ".py",
   "mimetype": "text/x-python",
   "name": "python",
   "nbconvert_exporter": "python",
   "pygments_lexer": "ipython3",
   "version": "3.9.13"
  }
 },
 "nbformat": 4,
 "nbformat_minor": 5
}
