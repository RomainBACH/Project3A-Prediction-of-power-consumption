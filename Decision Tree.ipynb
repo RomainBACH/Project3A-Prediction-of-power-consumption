{
 "cells": [
  {
   "cell_type": "markdown",
   "id": "74cfaf18",
   "metadata": {},
   "source": [
    "# PROJECT 3A_RTS: Big data analysis of an electricity power consumption (Tetouan Town - Morocco) and visualizing Prediction results"
   ]
  },
  {
   "cell_type": "markdown",
   "id": "2ab43297",
   "metadata": {},
   "source": [
    "## 1) Import useful libraries¶"
   ]
  },
  {
   "cell_type": "code",
   "execution_count": 153,
   "id": "19588207",
   "metadata": {},
   "outputs": [],
   "source": [
    "import pandas as pd\n",
    "import numpy as np\n",
    "import matplotlib.pyplot as plt\n",
    "import seaborn as sns\n",
    "\n",
    "from sklearn.tree import DecisionTreeRegressor\n",
    "from sklearn.model_selection import train_test_split\n",
    "from sklearn.metrics import mean_absolute_error\n"
   ]
  },
  {
   "cell_type": "markdown",
   "id": "d715f96a",
   "metadata": {},
   "source": [
    "## 2) Retrieve the dataset"
   ]
  },
  {
   "cell_type": "code",
   "execution_count": 154,
   "id": "2ab27c52",
   "metadata": {},
   "outputs": [],
   "source": [
    "consumptionTetuan=pd.read_csv(\"Tetuan City power consumption.csv\")"
   ]
  },
  {
   "cell_type": "code",
   "execution_count": 155,
   "id": "bdc41c44",
   "metadata": {},
   "outputs": [],
   "source": [
    "zone1 = consumptionTetuan['Zone 1 Power Consumption']\n",
    "zone2 = consumptionTetuan['Zone 2  Power Consumption'] \n",
    "zone3 = consumptionTetuan['Zone 3  Power Consumption']"
   ]
  },
  {
   "cell_type": "markdown",
   "id": "8829f929",
   "metadata": {},
   "source": [
    "## 3) Model of Decision Tree regressor"
   ]
  },
  {
   "cell_type": "code",
   "execution_count": 156,
   "id": "556bb622",
   "metadata": {},
   "outputs": [],
   "source": [
    "features=['Temperature', 'Humidity', 'Wind Speed', \"general diffuse flows\", \"diffuse flows\"]\n",
    "X = consumptionTetuan[features]\n",
    "y = zone1\n",
    "X_train, X_test, y_train, y_test = train_test_split(X, y, test_size = 0.2, random_state = 0)"
   ]
  },
  {
   "cell_type": "code",
   "execution_count": 157,
   "id": "a255e5e1",
   "metadata": {},
   "outputs": [
    {
     "name": "stdout",
     "output_type": "stream",
     "text": [
      "Size of y_test: (10484,)\n",
      "Size of y_train: (41932,)\n"
     ]
    }
   ],
   "source": [
    "print(\"Size of y_test:\",y_test.shape)\n",
    "print(\"Size of y_train:\", y_train.shape)"
   ]
  },
  {
   "cell_type": "code",
   "execution_count": 158,
   "id": "23d733ac",
   "metadata": {},
   "outputs": [
    {
     "name": "stdout",
     "output_type": "stream",
     "text": [
      "1.0\n"
     ]
    }
   ],
   "source": [
    "model1 = DecisionTreeRegressor(random_state=1)\n",
    "\n",
    "model1.fit(X_train, y_train)\n",
    "print(model1.score(X_train, y_train))\n",
    "predictions= model1.predict(X_test)"
   ]
  },
  {
   "cell_type": "code",
   "execution_count": 159,
   "id": "1a39c730",
   "metadata": {},
   "outputs": [
    {
     "data": {
      "text/plain": [
       "array([24654.83444, 31517.34219, 34068.44639, ..., 39218.36066,\n",
       "       30542.2605 , 21231.93916])"
      ]
     },
     "execution_count": 159,
     "metadata": {},
     "output_type": "execute_result"
    }
   ],
   "source": [
    "predictions"
   ]
  },
  {
   "cell_type": "code",
   "execution_count": 160,
   "id": "8530dbcc",
   "metadata": {},
   "outputs": [
    {
     "name": "stdout",
     "output_type": "stream",
     "text": [
      "MAE = 3919.0991468513935\n"
     ]
    }
   ],
   "source": [
    "print(\"MAE =\", mean_absolute_error(y_test, predictions))"
   ]
  },
  {
   "cell_type": "code",
   "execution_count": 161,
   "id": "b957f5e3",
   "metadata": {},
   "outputs": [],
   "source": [
    "features=['Temperature', 'Humidity', 'Wind Speed', \"general diffuse flows\", \"diffuse flows\"]\n",
    "X = consumptionTetuan[features]\n",
    "y = zone2\n",
    "X_train, X_test, y_train, y_test = train_test_split(X, y, test_size = 0.2, random_state = 0)"
   ]
  },
  {
   "cell_type": "code",
   "execution_count": 162,
   "id": "988a9629",
   "metadata": {},
   "outputs": [
    {
     "name": "stdout",
     "output_type": "stream",
     "text": [
      "MAE = 2972.901600010206\n"
     ]
    }
   ],
   "source": [
    "model2 = DecisionTreeRegressor(random_state=1)\n",
    "\n",
    "model2.fit(X_train, y_train)\n",
    "predictions= model2.predict(X_test)\n",
    "print(\"MAE =\", mean_absolute_error(y_test, predictions))"
   ]
  },
  {
   "cell_type": "code",
   "execution_count": 126,
   "id": "8fb9cc76",
   "metadata": {},
   "outputs": [],
   "source": [
    "features=['Temperature', 'Humidity', 'Wind Speed', \"general diffuse flows\", \"diffuse flows\"]\n",
    "X = consumptionTetuan[features]\n",
    "y = zone3\n",
    "X_train, X_test, y_train, y_test = train_test_split(X, y, test_size = 0.2, random_state = 0)"
   ]
  },
  {
   "cell_type": "code",
   "execution_count": 127,
   "id": "f5ee9017",
   "metadata": {},
   "outputs": [
    {
     "name": "stdout",
     "output_type": "stream",
     "text": [
      "MAE = 2975.9682465205074\n"
     ]
    }
   ],
   "source": [
    "model3 = DecisionTreeRegressor(random_state=1)\n",
    "\n",
    "model3.fit(X_train, y_train)\n",
    "predictions= model3.predict(X_test)\n",
    "print(\"MAE =\",mean_absolute_error(y_test, predictions))"
   ]
  },
  {
   "cell_type": "code",
   "execution_count": 128,
   "id": "bc08d8a0",
   "metadata": {},
   "outputs": [],
   "source": [
    "# avec heure\n",
    "consumptionTetuan['DateTime']=pd.to_datetime(consumptionTetuan['DateTime']) \n",
    "def conv(data):\n",
    "    data['month']=data['DateTime'].dt.month\n",
    "    data['day']=data['DateTime'].dt.day\n",
    "    data['hour']=data['DateTime'].dt.hour    \n",
    "    return data\n",
    "\n",
    "consumptionTetuan = conv(consumptionTetuan)"
   ]
  },
  {
   "cell_type": "code",
   "execution_count": 129,
   "id": "83b0a407",
   "metadata": {},
   "outputs": [
    {
     "data": {
      "text/html": [
       "<div>\n",
       "<style scoped>\n",
       "    .dataframe tbody tr th:only-of-type {\n",
       "        vertical-align: middle;\n",
       "    }\n",
       "\n",
       "    .dataframe tbody tr th {\n",
       "        vertical-align: top;\n",
       "    }\n",
       "\n",
       "    .dataframe thead th {\n",
       "        text-align: right;\n",
       "    }\n",
       "</style>\n",
       "<table border=\"1\" class=\"dataframe\">\n",
       "  <thead>\n",
       "    <tr style=\"text-align: right;\">\n",
       "      <th></th>\n",
       "      <th>DateTime</th>\n",
       "      <th>Temperature</th>\n",
       "      <th>Humidity</th>\n",
       "      <th>Wind Speed</th>\n",
       "      <th>general diffuse flows</th>\n",
       "      <th>diffuse flows</th>\n",
       "      <th>Zone 1 Power Consumption</th>\n",
       "      <th>Zone 2  Power Consumption</th>\n",
       "      <th>Zone 3  Power Consumption</th>\n",
       "      <th>month</th>\n",
       "      <th>day</th>\n",
       "      <th>hour</th>\n",
       "    </tr>\n",
       "  </thead>\n",
       "  <tbody>\n",
       "    <tr>\n",
       "      <th>0</th>\n",
       "      <td>2017-01-01 00:00:00</td>\n",
       "      <td>6.559</td>\n",
       "      <td>73.8</td>\n",
       "      <td>0.083</td>\n",
       "      <td>0.051</td>\n",
       "      <td>0.119</td>\n",
       "      <td>34055.69620</td>\n",
       "      <td>16128.87538</td>\n",
       "      <td>20240.96386</td>\n",
       "      <td>1</td>\n",
       "      <td>1</td>\n",
       "      <td>0</td>\n",
       "    </tr>\n",
       "    <tr>\n",
       "      <th>1</th>\n",
       "      <td>2017-01-01 00:10:00</td>\n",
       "      <td>6.414</td>\n",
       "      <td>74.5</td>\n",
       "      <td>0.083</td>\n",
       "      <td>0.070</td>\n",
       "      <td>0.085</td>\n",
       "      <td>29814.68354</td>\n",
       "      <td>19375.07599</td>\n",
       "      <td>20131.08434</td>\n",
       "      <td>1</td>\n",
       "      <td>1</td>\n",
       "      <td>0</td>\n",
       "    </tr>\n",
       "    <tr>\n",
       "      <th>2</th>\n",
       "      <td>2017-01-01 00:20:00</td>\n",
       "      <td>6.313</td>\n",
       "      <td>74.5</td>\n",
       "      <td>0.080</td>\n",
       "      <td>0.062</td>\n",
       "      <td>0.100</td>\n",
       "      <td>29128.10127</td>\n",
       "      <td>19006.68693</td>\n",
       "      <td>19668.43373</td>\n",
       "      <td>1</td>\n",
       "      <td>1</td>\n",
       "      <td>0</td>\n",
       "    </tr>\n",
       "    <tr>\n",
       "      <th>3</th>\n",
       "      <td>2017-01-01 00:30:00</td>\n",
       "      <td>6.121</td>\n",
       "      <td>75.0</td>\n",
       "      <td>0.083</td>\n",
       "      <td>0.091</td>\n",
       "      <td>0.096</td>\n",
       "      <td>28228.86076</td>\n",
       "      <td>18361.09422</td>\n",
       "      <td>18899.27711</td>\n",
       "      <td>1</td>\n",
       "      <td>1</td>\n",
       "      <td>0</td>\n",
       "    </tr>\n",
       "    <tr>\n",
       "      <th>4</th>\n",
       "      <td>2017-01-01 00:40:00</td>\n",
       "      <td>5.921</td>\n",
       "      <td>75.7</td>\n",
       "      <td>0.081</td>\n",
       "      <td>0.048</td>\n",
       "      <td>0.085</td>\n",
       "      <td>27335.69620</td>\n",
       "      <td>17872.34043</td>\n",
       "      <td>18442.40964</td>\n",
       "      <td>1</td>\n",
       "      <td>1</td>\n",
       "      <td>0</td>\n",
       "    </tr>\n",
       "  </tbody>\n",
       "</table>\n",
       "</div>"
      ],
      "text/plain": [
       "             DateTime  Temperature  Humidity  Wind Speed  \\\n",
       "0 2017-01-01 00:00:00        6.559      73.8       0.083   \n",
       "1 2017-01-01 00:10:00        6.414      74.5       0.083   \n",
       "2 2017-01-01 00:20:00        6.313      74.5       0.080   \n",
       "3 2017-01-01 00:30:00        6.121      75.0       0.083   \n",
       "4 2017-01-01 00:40:00        5.921      75.7       0.081   \n",
       "\n",
       "   general diffuse flows  diffuse flows  Zone 1 Power Consumption  \\\n",
       "0                  0.051          0.119               34055.69620   \n",
       "1                  0.070          0.085               29814.68354   \n",
       "2                  0.062          0.100               29128.10127   \n",
       "3                  0.091          0.096               28228.86076   \n",
       "4                  0.048          0.085               27335.69620   \n",
       "\n",
       "   Zone 2  Power Consumption  Zone 3  Power Consumption  month  day  hour  \n",
       "0                16128.87538                20240.96386      1    1     0  \n",
       "1                19375.07599                20131.08434      1    1     0  \n",
       "2                19006.68693                19668.43373      1    1     0  \n",
       "3                18361.09422                18899.27711      1    1     0  \n",
       "4                17872.34043                18442.40964      1    1     0  "
      ]
     },
     "execution_count": 129,
     "metadata": {},
     "output_type": "execute_result"
    }
   ],
   "source": [
    "consumptionTetuan.head()"
   ]
  },
  {
   "cell_type": "code",
   "execution_count": 130,
   "id": "9af27ef2",
   "metadata": {},
   "outputs": [],
   "source": [
    "features=['Temperature', 'Humidity', 'Wind Speed', \"general diffuse flows\", \"diffuse flows\", \"hour\"]\n",
    "X = consumptionTetuan[features]\n",
    "y = zone1\n",
    "X_train, X_test, y_train, y_test = train_test_split(X, y, test_size = 0.2, random_state = 0)"
   ]
  },
  {
   "cell_type": "code",
   "execution_count": 131,
   "id": "c8edda00",
   "metadata": {},
   "outputs": [],
   "source": [
    "model1_Hours = DecisionTreeRegressor(random_state=1)\n",
    "\n",
    "model1_Hours.fit(X_train, y_train)\n",
    "predictions= model1_Hours.predict(X_test)"
   ]
  },
  {
   "cell_type": "code",
   "execution_count": 132,
   "id": "f7122ad2",
   "metadata": {},
   "outputs": [
    {
     "name": "stdout",
     "output_type": "stream",
     "text": [
      "MAE = 1496.25698768409\n"
     ]
    }
   ],
   "source": [
    "print(\"MAE =\", mean_absolute_error(y_test, predictions))"
   ]
  },
  {
   "cell_type": "code",
   "execution_count": 133,
   "id": "c4a5fff3",
   "metadata": {},
   "outputs": [],
   "source": [
    "features=['Temperature', 'Humidity', 'Wind Speed', \"general diffuse flows\", \"diffuse flows\", \"hour\"]\n",
    "X = consumptionTetuan[features]\n",
    "y = zone2\n",
    "X_train, X_test, y_train, y_test = train_test_split(X, y, test_size = 0.2, random_state = 0)"
   ]
  },
  {
   "cell_type": "code",
   "execution_count": 134,
   "id": "f8ac7176",
   "metadata": {},
   "outputs": [
    {
     "name": "stdout",
     "output_type": "stream",
     "text": [
      "MAE = 1455.320868540252\n"
     ]
    }
   ],
   "source": [
    "model2_Hours = DecisionTreeRegressor(random_state=1)\n",
    "\n",
    "model2_Hours.fit(X_train, y_train)\n",
    "predictions= model2_Hours.predict(X_test)\n",
    "print(\"MAE =\", mean_absolute_error(y_test, predictions))"
   ]
  },
  {
   "cell_type": "code",
   "execution_count": 135,
   "id": "a8b57bdc",
   "metadata": {},
   "outputs": [],
   "source": [
    "features=['Temperature', 'Humidity', 'Wind Speed', \"general diffuse flows\", \"diffuse flows\", \"hour\"]\n",
    "X = consumptionTetuan[features]\n",
    "y = zone3\n",
    "X_train, X_test, y_train, y_test = train_test_split(X, y, test_size = 0.2, random_state = 0)"
   ]
  },
  {
   "cell_type": "code",
   "execution_count": 136,
   "id": "6d12df4f",
   "metadata": {},
   "outputs": [
    {
     "name": "stdout",
     "output_type": "stream",
     "text": [
      "1567.7385081038726\n"
     ]
    }
   ],
   "source": [
    "model3_Hours = DecisionTreeRegressor(random_state=1)\n",
    "\n",
    "model3_Hours.fit(X_train, y_train)\n",
    "predictions= model3_Hours.predict(X_test)\n",
    "print(mean_absolute_error(y_test, predictions))"
   ]
  },
  {
   "cell_type": "code",
   "execution_count": 137,
   "id": "92733f31",
   "metadata": {},
   "outputs": [],
   "source": [
    "X_test['Zone 3 Power Consumption'] = y_test"
   ]
  },
  {
   "cell_type": "code",
   "execution_count": 138,
   "id": "df73b040",
   "metadata": {},
   "outputs": [
    {
     "data": {
      "text/html": [
       "<div>\n",
       "<style scoped>\n",
       "    .dataframe tbody tr th:only-of-type {\n",
       "        vertical-align: middle;\n",
       "    }\n",
       "\n",
       "    .dataframe tbody tr th {\n",
       "        vertical-align: top;\n",
       "    }\n",
       "\n",
       "    .dataframe thead th {\n",
       "        text-align: right;\n",
       "    }\n",
       "</style>\n",
       "<table border=\"1\" class=\"dataframe\">\n",
       "  <thead>\n",
       "    <tr style=\"text-align: right;\">\n",
       "      <th></th>\n",
       "      <th>Temperature</th>\n",
       "      <th>Humidity</th>\n",
       "      <th>Wind Speed</th>\n",
       "      <th>general diffuse flows</th>\n",
       "      <th>diffuse flows</th>\n",
       "      <th>hour</th>\n",
       "      <th>Zone 3 Power Consumption</th>\n",
       "    </tr>\n",
       "  </thead>\n",
       "  <tbody>\n",
       "    <tr>\n",
       "      <th>25500</th>\n",
       "      <td>20.46</td>\n",
       "      <td>89.70</td>\n",
       "      <td>4.916</td>\n",
       "      <td>0.055</td>\n",
       "      <td>0.141</td>\n",
       "      <td>2</td>\n",
       "      <td>21184.98462</td>\n",
       "    </tr>\n",
       "    <tr>\n",
       "      <th>40040</th>\n",
       "      <td>20.59</td>\n",
       "      <td>68.96</td>\n",
       "      <td>4.920</td>\n",
       "      <td>0.077</td>\n",
       "      <td>0.115</td>\n",
       "      <td>1</td>\n",
       "      <td>13375.80547</td>\n",
       "    </tr>\n",
       "    <tr>\n",
       "      <th>35066</th>\n",
       "      <td>27.01</td>\n",
       "      <td>46.78</td>\n",
       "      <td>4.922</td>\n",
       "      <td>784.000</td>\n",
       "      <td>66.450</td>\n",
       "      <td>12</td>\n",
       "      <td>13967.55873</td>\n",
       "    </tr>\n",
       "    <tr>\n",
       "      <th>27275</th>\n",
       "      <td>25.00</td>\n",
       "      <td>61.83</td>\n",
       "      <td>4.909</td>\n",
       "      <td>598.400</td>\n",
       "      <td>99.700</td>\n",
       "      <td>9</td>\n",
       "      <td>23612.38494</td>\n",
       "    </tr>\n",
       "    <tr>\n",
       "      <th>3329</th>\n",
       "      <td>9.85</td>\n",
       "      <td>70.80</td>\n",
       "      <td>0.083</td>\n",
       "      <td>0.051</td>\n",
       "      <td>0.115</td>\n",
       "      <td>2</td>\n",
       "      <td>14550.36145</td>\n",
       "    </tr>\n",
       "    <tr>\n",
       "      <th>...</th>\n",
       "      <td>...</td>\n",
       "      <td>...</td>\n",
       "      <td>...</td>\n",
       "      <td>...</td>\n",
       "      <td>...</td>\n",
       "      <td>...</td>\n",
       "      <td>...</td>\n",
       "    </tr>\n",
       "    <tr>\n",
       "      <th>9269</th>\n",
       "      <td>12.77</td>\n",
       "      <td>74.90</td>\n",
       "      <td>0.087</td>\n",
       "      <td>113.900</td>\n",
       "      <td>107.800</td>\n",
       "      <td>8</td>\n",
       "      <td>12240.00000</td>\n",
       "    </tr>\n",
       "    <tr>\n",
       "      <th>33689</th>\n",
       "      <td>21.55</td>\n",
       "      <td>53.88</td>\n",
       "      <td>4.926</td>\n",
       "      <td>0.095</td>\n",
       "      <td>0.063</td>\n",
       "      <td>22</td>\n",
       "      <td>29781.06583</td>\n",
       "    </tr>\n",
       "    <tr>\n",
       "      <th>21133</th>\n",
       "      <td>21.55</td>\n",
       "      <td>72.30</td>\n",
       "      <td>4.921</td>\n",
       "      <td>328.400</td>\n",
       "      <td>323.500</td>\n",
       "      <td>18</td>\n",
       "      <td>20276.59919</td>\n",
       "    </tr>\n",
       "    <tr>\n",
       "      <th>40112</th>\n",
       "      <td>25.02</td>\n",
       "      <td>44.41</td>\n",
       "      <td>4.920</td>\n",
       "      <td>449.700</td>\n",
       "      <td>206.500</td>\n",
       "      <td>13</td>\n",
       "      <td>13048.99696</td>\n",
       "    </tr>\n",
       "    <tr>\n",
       "      <th>7206</th>\n",
       "      <td>13.97</td>\n",
       "      <td>62.06</td>\n",
       "      <td>0.077</td>\n",
       "      <td>0.081</td>\n",
       "      <td>0.134</td>\n",
       "      <td>1</td>\n",
       "      <td>15450.69347</td>\n",
       "    </tr>\n",
       "  </tbody>\n",
       "</table>\n",
       "<p>10484 rows × 7 columns</p>\n",
       "</div>"
      ],
      "text/plain": [
       "       Temperature  Humidity  Wind Speed  general diffuse flows  \\\n",
       "25500        20.46     89.70       4.916                  0.055   \n",
       "40040        20.59     68.96       4.920                  0.077   \n",
       "35066        27.01     46.78       4.922                784.000   \n",
       "27275        25.00     61.83       4.909                598.400   \n",
       "3329          9.85     70.80       0.083                  0.051   \n",
       "...            ...       ...         ...                    ...   \n",
       "9269         12.77     74.90       0.087                113.900   \n",
       "33689        21.55     53.88       4.926                  0.095   \n",
       "21133        21.55     72.30       4.921                328.400   \n",
       "40112        25.02     44.41       4.920                449.700   \n",
       "7206         13.97     62.06       0.077                  0.081   \n",
       "\n",
       "       diffuse flows  hour  Zone 3 Power Consumption  \n",
       "25500          0.141     2               21184.98462  \n",
       "40040          0.115     1               13375.80547  \n",
       "35066         66.450    12               13967.55873  \n",
       "27275         99.700     9               23612.38494  \n",
       "3329           0.115     2               14550.36145  \n",
       "...              ...   ...                       ...  \n",
       "9269         107.800     8               12240.00000  \n",
       "33689          0.063    22               29781.06583  \n",
       "21133        323.500    18               20276.59919  \n",
       "40112        206.500    13               13048.99696  \n",
       "7206           0.134     1               15450.69347  \n",
       "\n",
       "[10484 rows x 7 columns]"
      ]
     },
     "execution_count": 138,
     "metadata": {},
     "output_type": "execute_result"
    }
   ],
   "source": [
    "X_test"
   ]
  },
  {
   "cell_type": "code",
   "execution_count": 139,
   "id": "a70b16b3",
   "metadata": {},
   "outputs": [],
   "source": [
    "X_test['Zone 3 Power predictions'] = predictions"
   ]
  },
  {
   "cell_type": "code",
   "execution_count": 140,
   "id": "864cfe3b",
   "metadata": {},
   "outputs": [
    {
     "data": {
      "text/html": [
       "<div>\n",
       "<style scoped>\n",
       "    .dataframe tbody tr th:only-of-type {\n",
       "        vertical-align: middle;\n",
       "    }\n",
       "\n",
       "    .dataframe tbody tr th {\n",
       "        vertical-align: top;\n",
       "    }\n",
       "\n",
       "    .dataframe thead th {\n",
       "        text-align: right;\n",
       "    }\n",
       "</style>\n",
       "<table border=\"1\" class=\"dataframe\">\n",
       "  <thead>\n",
       "    <tr style=\"text-align: right;\">\n",
       "      <th></th>\n",
       "      <th>Temperature</th>\n",
       "      <th>Humidity</th>\n",
       "      <th>Wind Speed</th>\n",
       "      <th>general diffuse flows</th>\n",
       "      <th>diffuse flows</th>\n",
       "      <th>hour</th>\n",
       "      <th>Zone 3 Power Consumption</th>\n",
       "      <th>Zone 3 Power predictions</th>\n",
       "    </tr>\n",
       "  </thead>\n",
       "  <tbody>\n",
       "    <tr>\n",
       "      <th>25500</th>\n",
       "      <td>20.46</td>\n",
       "      <td>89.70</td>\n",
       "      <td>4.916</td>\n",
       "      <td>0.055</td>\n",
       "      <td>0.141</td>\n",
       "      <td>2</td>\n",
       "      <td>21184.98462</td>\n",
       "      <td>21013.66154</td>\n",
       "    </tr>\n",
       "    <tr>\n",
       "      <th>40040</th>\n",
       "      <td>20.59</td>\n",
       "      <td>68.96</td>\n",
       "      <td>4.920</td>\n",
       "      <td>0.077</td>\n",
       "      <td>0.115</td>\n",
       "      <td>1</td>\n",
       "      <td>13375.80547</td>\n",
       "      <td>13820.46987</td>\n",
       "    </tr>\n",
       "    <tr>\n",
       "      <th>35066</th>\n",
       "      <td>27.01</td>\n",
       "      <td>46.78</td>\n",
       "      <td>4.922</td>\n",
       "      <td>784.000</td>\n",
       "      <td>66.450</td>\n",
       "      <td>12</td>\n",
       "      <td>13967.55873</td>\n",
       "      <td>13568.38906</td>\n",
       "    </tr>\n",
       "    <tr>\n",
       "      <th>27275</th>\n",
       "      <td>25.00</td>\n",
       "      <td>61.83</td>\n",
       "      <td>4.909</td>\n",
       "      <td>598.400</td>\n",
       "      <td>99.700</td>\n",
       "      <td>9</td>\n",
       "      <td>23612.38494</td>\n",
       "      <td>23383.43096</td>\n",
       "    </tr>\n",
       "    <tr>\n",
       "      <th>3329</th>\n",
       "      <td>9.85</td>\n",
       "      <td>70.80</td>\n",
       "      <td>0.083</td>\n",
       "      <td>0.051</td>\n",
       "      <td>0.115</td>\n",
       "      <td>2</td>\n",
       "      <td>14550.36145</td>\n",
       "      <td>15487.22892</td>\n",
       "    </tr>\n",
       "    <tr>\n",
       "      <th>...</th>\n",
       "      <td>...</td>\n",
       "      <td>...</td>\n",
       "      <td>...</td>\n",
       "      <td>...</td>\n",
       "      <td>...</td>\n",
       "      <td>...</td>\n",
       "      <td>...</td>\n",
       "      <td>...</td>\n",
       "    </tr>\n",
       "    <tr>\n",
       "      <th>9269</th>\n",
       "      <td>12.77</td>\n",
       "      <td>74.90</td>\n",
       "      <td>0.087</td>\n",
       "      <td>113.900</td>\n",
       "      <td>107.800</td>\n",
       "      <td>8</td>\n",
       "      <td>12240.00000</td>\n",
       "      <td>11716.82412</td>\n",
       "    </tr>\n",
       "    <tr>\n",
       "      <th>33689</th>\n",
       "      <td>21.55</td>\n",
       "      <td>53.88</td>\n",
       "      <td>4.926</td>\n",
       "      <td>0.095</td>\n",
       "      <td>0.063</td>\n",
       "      <td>22</td>\n",
       "      <td>29781.06583</td>\n",
       "      <td>23040.00000</td>\n",
       "    </tr>\n",
       "    <tr>\n",
       "      <th>21133</th>\n",
       "      <td>21.55</td>\n",
       "      <td>72.30</td>\n",
       "      <td>4.921</td>\n",
       "      <td>328.400</td>\n",
       "      <td>323.500</td>\n",
       "      <td>18</td>\n",
       "      <td>20276.59919</td>\n",
       "      <td>17484.04858</td>\n",
       "    </tr>\n",
       "    <tr>\n",
       "      <th>40112</th>\n",
       "      <td>25.02</td>\n",
       "      <td>44.41</td>\n",
       "      <td>4.920</td>\n",
       "      <td>449.700</td>\n",
       "      <td>206.500</td>\n",
       "      <td>13</td>\n",
       "      <td>13048.99696</td>\n",
       "      <td>17943.27273</td>\n",
       "    </tr>\n",
       "    <tr>\n",
       "      <th>7206</th>\n",
       "      <td>13.97</td>\n",
       "      <td>62.06</td>\n",
       "      <td>0.077</td>\n",
       "      <td>0.081</td>\n",
       "      <td>0.134</td>\n",
       "      <td>1</td>\n",
       "      <td>15450.69347</td>\n",
       "      <td>15446.74699</td>\n",
       "    </tr>\n",
       "  </tbody>\n",
       "</table>\n",
       "<p>10484 rows × 8 columns</p>\n",
       "</div>"
      ],
      "text/plain": [
       "       Temperature  Humidity  Wind Speed  general diffuse flows  \\\n",
       "25500        20.46     89.70       4.916                  0.055   \n",
       "40040        20.59     68.96       4.920                  0.077   \n",
       "35066        27.01     46.78       4.922                784.000   \n",
       "27275        25.00     61.83       4.909                598.400   \n",
       "3329          9.85     70.80       0.083                  0.051   \n",
       "...            ...       ...         ...                    ...   \n",
       "9269         12.77     74.90       0.087                113.900   \n",
       "33689        21.55     53.88       4.926                  0.095   \n",
       "21133        21.55     72.30       4.921                328.400   \n",
       "40112        25.02     44.41       4.920                449.700   \n",
       "7206         13.97     62.06       0.077                  0.081   \n",
       "\n",
       "       diffuse flows  hour  Zone 3 Power Consumption  Zone 3 Power predictions  \n",
       "25500          0.141     2               21184.98462               21013.66154  \n",
       "40040          0.115     1               13375.80547               13820.46987  \n",
       "35066         66.450    12               13967.55873               13568.38906  \n",
       "27275         99.700     9               23612.38494               23383.43096  \n",
       "3329           0.115     2               14550.36145               15487.22892  \n",
       "...              ...   ...                       ...                       ...  \n",
       "9269         107.800     8               12240.00000               11716.82412  \n",
       "33689          0.063    22               29781.06583               23040.00000  \n",
       "21133        323.500    18               20276.59919               17484.04858  \n",
       "40112        206.500    13               13048.99696               17943.27273  \n",
       "7206           0.134     1               15450.69347               15446.74699  \n",
       "\n",
       "[10484 rows x 8 columns]"
      ]
     },
     "execution_count": 140,
     "metadata": {},
     "output_type": "execute_result"
    }
   ],
   "source": [
    "X_test"
   ]
  },
  {
   "cell_type": "code",
   "execution_count": 141,
   "id": "898f9d6a",
   "metadata": {},
   "outputs": [
    {
     "data": {
      "text/plain": [
       "Text(0.5, 1.0, 'Consommation de la zone 3 et la prediction du modèle')"
      ]
     },
     "execution_count": 141,
     "metadata": {},
     "output_type": "execute_result"
    },
    {
     "data": {
      "image/png": "[encoded data removed]",
      "text/plain": [
       "<Figure size 640x480 with 1 Axes>"
      ]
     },
     "metadata": {},
     "output_type": "display_data"
    }
   ],
   "source": [
    "x = np.linspace(0,50,50) # start, stop, nombre point\n",
    "\n",
    "plt.plot(x,y_test[0:50], label='Consommation zone 3')\n",
    "plt.plot(x, predictions[0:50], c='r', label='predictions de la consommation')\n",
    "plt.xlabel(\"50 premiers éléments\")\n",
    "plt.ylabel(\"Consumption of zone 3 et la prédiction\")\n",
    "plt.legend()\n",
    "plt.title(\"Consommation de la zone 3 et la prediction du modèle\")"
   ]
  },
  {
   "cell_type": "code",
   "execution_count": 142,
   "id": "b9b14513",
   "metadata": {},
   "outputs": [
    {
     "data": {
      "text/plain": [
       "Text(0.5, 1.0, 'Consommation de la zone 3 et la prediction du modèle')"
      ]
     },
     "execution_count": 142,
     "metadata": {},
     "output_type": "execute_result"
    },
    {
     "data": {
      "image/png": "[encoded data removed]",
      "text/plain": [
       "<Figure size 640x480 with 1 Axes>"
      ]
     },
     "metadata": {},
     "output_type": "display_data"
    }
   ],
   "source": [
    "x = np.linspace(0,10,10)\n",
    "\n",
    "plt.plot(x,y_test[(len(y_test)-10): (len(y_test))], label='Consommation zone 3')\n",
    "plt.plot(x, predictions[(len(predictions)-10): (len(predictions))], c='r', label='predictions de la consommation')\n",
    "plt.xlabel(\"10 derniers éléments\")\n",
    "plt.ylabel(\"Consumption of zone 3 et la prédiction\")\n",
    "plt.legend()\n",
    "plt.title(\"Consommation de la zone 3 et la prediction du modèle\")"
   ]
  },
  {
   "cell_type": "code",
   "execution_count": 143,
   "id": "7cb80380",
   "metadata": {},
   "outputs": [
    {
     "data": {
      "text/plain": [
       "array([19636.1005 , 25012.36364, 25399.51807, 28340.36364, 19138.25126,\n",
       "       11716.82412, 23040.     , 17484.04858, 17943.27273, 15446.74699])"
      ]
     },
     "execution_count": 143,
     "metadata": {},
     "output_type": "execute_result"
    }
   ],
   "source": [
    "predictions[len(predictions)-10:len(predictions)]"
   ]
  },
  {
   "cell_type": "code",
   "execution_count": 144,
   "id": "827ea879",
   "metadata": {},
   "outputs": [
    {
     "data": {
      "text/plain": [
       "7131     18877.74874\n",
       "13239    24378.18182\n",
       "1262     25613.49398\n",
       "14518    27805.09091\n",
       "5755     20938.61307\n",
       "9269     12240.00000\n",
       "33689    29781.06583\n",
       "21133    20276.59919\n",
       "40112    13048.99696\n",
       "7206     15450.69347\n",
       "Name: Zone 3  Power Consumption, dtype: float64"
      ]
     },
     "execution_count": 144,
     "metadata": {},
     "output_type": "execute_result"
    }
   ],
   "source": [
    "y_test[(len(y_test)-10): (len(y_test))]"
   ]
  },
  {
   "cell_type": "code",
   "execution_count": 145,
   "id": "9105b812",
   "metadata": {},
   "outputs": [
    {
     "data": {
      "text/plain": [
       "7131      758.35176\n",
       "13239     634.18182\n",
       "1262      213.97591\n",
       "14518     535.27273\n",
       "5755     1800.36181\n",
       "9269      523.17588\n",
       "33689    6741.06583\n",
       "21133    2792.55061\n",
       "40112    4894.27577\n",
       "7206        3.94648\n",
       "Name: Zone 3  Power Consumption, dtype: float64"
      ]
     },
     "execution_count": 145,
     "metadata": {},
     "output_type": "execute_result"
    }
   ],
   "source": [
    "abs(y_test[(len(y_test)-10):(len(y_test))]-predictions[len(predictions)-10:len(predictions)])"
   ]
  },
  {
   "cell_type": "code",
   "execution_count": 146,
   "id": "47c6368e",
   "metadata": {},
   "outputs": [],
   "source": [
    "features=['Temperature', 'Humidity', 'Wind Speed', \"general diffuse flows\", \"diffuse flows\"]\n",
    "X = consumptionTetuan[features]\n",
    "consumption = ['Zone 1 Power Consumption', 'Zone 2  Power Consumption', 'Zone 3  Power Consumption']\n",
    "y = consumptionTetuan[consumption]\n",
    "X_train, X_test, y_train, y_test = train_test_split(X, y, test_size = 0.2, random_state = 0)"
   ]
  },
  {
   "cell_type": "code",
   "execution_count": 147,
   "id": "fc38235e",
   "metadata": {},
   "outputs": [
    {
     "name": "stdout",
     "output_type": "stream",
     "text": [
      "1.0\n",
      "MAE = 3287.8623964001067\n"
     ]
    }
   ],
   "source": [
    "model = DecisionTreeRegressor(random_state=1)\n",
    "\n",
    "model.fit(X_train, y_train)\n",
    "print(model.score(X_train, y_train))\n",
    "predictions= model.predict(X_test)\n",
    "print(\"MAE =\", mean_absolute_error(y_test, predictions))"
   ]
  },
  {
   "cell_type": "code",
   "execution_count": 148,
   "id": "9954ac96",
   "metadata": {},
   "outputs": [
    {
     "data": {
      "text/plain": [
       "array([[24699.33775, 15350.51975, 19247.26154],\n",
       "       [24804.43951, 15627.87751, 14505.32915],\n",
       "       [27646.72566, 15672.34927, 13896.95608],\n",
       "       ...,\n",
       "       [39936.     , 24434.67492, 21360.97166],\n",
       "       [30542.2605 , 17607.73931, 17844.36364],\n",
       "       [44155.91489, 26096.34146, 25838.70968]])"
      ]
     },
     "execution_count": 148,
     "metadata": {},
     "output_type": "execute_result"
    }
   ],
   "source": [
    "predictions"
   ]
  },
  {
   "cell_type": "code",
   "execution_count": 149,
   "id": "420ed746",
   "metadata": {},
   "outputs": [
    {
     "data": {
      "text/html": [
       "<div>\n",
       "<style scoped>\n",
       "    .dataframe tbody tr th:only-of-type {\n",
       "        vertical-align: middle;\n",
       "    }\n",
       "\n",
       "    .dataframe tbody tr th {\n",
       "        vertical-align: top;\n",
       "    }\n",
       "\n",
       "    .dataframe thead th {\n",
       "        text-align: right;\n",
       "    }\n",
       "</style>\n",
       "<table border=\"1\" class=\"dataframe\">\n",
       "  <thead>\n",
       "    <tr style=\"text-align: right;\">\n",
       "      <th></th>\n",
       "      <th>Zone 1 Power Consumption</th>\n",
       "      <th>Zone 2  Power Consumption</th>\n",
       "      <th>Zone 3  Power Consumption</th>\n",
       "    </tr>\n",
       "  </thead>\n",
       "  <tbody>\n",
       "    <tr>\n",
       "      <th>25500</th>\n",
       "      <td>27782.78146</td>\n",
       "      <td>17191.68399</td>\n",
       "      <td>21184.98462</td>\n",
       "    </tr>\n",
       "    <tr>\n",
       "      <th>40040</th>\n",
       "      <td>26386.34573</td>\n",
       "      <td>17887.96680</td>\n",
       "      <td>13375.80547</td>\n",
       "    </tr>\n",
       "    <tr>\n",
       "      <th>35066</th>\n",
       "      <td>27506.54867</td>\n",
       "      <td>15537.62994</td>\n",
       "      <td>13967.55873</td>\n",
       "    </tr>\n",
       "    <tr>\n",
       "      <th>27275</th>\n",
       "      <td>30388.30565</td>\n",
       "      <td>18672.15190</td>\n",
       "      <td>23612.38494</td>\n",
       "    </tr>\n",
       "    <tr>\n",
       "      <th>3329</th>\n",
       "      <td>22517.46835</td>\n",
       "      <td>13984.19453</td>\n",
       "      <td>14550.36145</td>\n",
       "    </tr>\n",
       "    <tr>\n",
       "      <th>...</th>\n",
       "      <td>...</td>\n",
       "      <td>...</td>\n",
       "      <td>...</td>\n",
       "    </tr>\n",
       "    <tr>\n",
       "      <th>9269</th>\n",
       "      <td>28456.85106</td>\n",
       "      <td>17315.85366</td>\n",
       "      <td>12240.00000</td>\n",
       "    </tr>\n",
       "    <tr>\n",
       "      <th>33689</th>\n",
       "      <td>42410.47725</td>\n",
       "      <td>28914.04435</td>\n",
       "      <td>29781.06583</td>\n",
       "    </tr>\n",
       "    <tr>\n",
       "      <th>21133</th>\n",
       "      <td>38639.21311</td>\n",
       "      <td>23650.77399</td>\n",
       "      <td>20276.59919</td>\n",
       "    </tr>\n",
       "    <tr>\n",
       "      <th>40112</th>\n",
       "      <td>36790.89716</td>\n",
       "      <td>22753.94191</td>\n",
       "      <td>13048.99696</td>\n",
       "    </tr>\n",
       "    <tr>\n",
       "      <th>7206</th>\n",
       "      <td>25267.11864</td>\n",
       "      <td>15497.87234</td>\n",
       "      <td>15450.69347</td>\n",
       "    </tr>\n",
       "  </tbody>\n",
       "</table>\n",
       "<p>10484 rows × 3 columns</p>\n",
       "</div>"
      ],
      "text/plain": [
       "       Zone 1 Power Consumption  Zone 2  Power Consumption  \\\n",
       "25500               27782.78146                17191.68399   \n",
       "40040               26386.34573                17887.96680   \n",
       "35066               27506.54867                15537.62994   \n",
       "27275               30388.30565                18672.15190   \n",
       "3329                22517.46835                13984.19453   \n",
       "...                         ...                        ...   \n",
       "9269                28456.85106                17315.85366   \n",
       "33689               42410.47725                28914.04435   \n",
       "21133               38639.21311                23650.77399   \n",
       "40112               36790.89716                22753.94191   \n",
       "7206                25267.11864                15497.87234   \n",
       "\n",
       "       Zone 3  Power Consumption  \n",
       "25500                21184.98462  \n",
       "40040                13375.80547  \n",
       "35066                13967.55873  \n",
       "27275                23612.38494  \n",
       "3329                 14550.36145  \n",
       "...                          ...  \n",
       "9269                 12240.00000  \n",
       "33689                29781.06583  \n",
       "21133                20276.59919  \n",
       "40112                13048.99696  \n",
       "7206                 15450.69347  \n",
       "\n",
       "[10484 rows x 3 columns]"
      ]
     },
     "execution_count": 149,
     "metadata": {},
     "output_type": "execute_result"
    }
   ],
   "source": [
    "y_test"
   ]
  },
  {
   "cell_type": "code",
   "execution_count": 150,
   "id": "be9bef78",
   "metadata": {},
   "outputs": [],
   "source": [
    "X_test['index']= range(1,10485)\n",
    "\n",
    "X_test['Zone 1'] = y_test[\"Zone 1 Power Consumption\"]\n",
    "X_test['Zone 1 predictions'] = predictions[:,0]\n",
    "\n",
    "\n",
    "X_test['Zone 2'] = y_test[\"Zone 2  Power Consumption\"]\n",
    "X_test['Zone 2 predictions'] = predictions[:,1]\n",
    "\n",
    "X_test['Zone 3'] = y_test[\"Zone 3  Power Consumption\"]\n",
    "X_test['Zone 3 predictions'] = predictions[:,2]\n"
   ]
  },
  {
   "cell_type": "code",
   "execution_count": 151,
   "id": "35aa8106",
   "metadata": {},
   "outputs": [
    {
     "data": {
      "text/html": [
       "<div>\n",
       "<style scoped>\n",
       "    .dataframe tbody tr th:only-of-type {\n",
       "        vertical-align: middle;\n",
       "    }\n",
       "\n",
       "    .dataframe tbody tr th {\n",
       "        vertical-align: top;\n",
       "    }\n",
       "\n",
       "    .dataframe thead th {\n",
       "        text-align: right;\n",
       "    }\n",
       "</style>\n",
       "<table border=\"1\" class=\"dataframe\">\n",
       "  <thead>\n",
       "    <tr style=\"text-align: right;\">\n",
       "      <th></th>\n",
       "      <th>Temperature</th>\n",
       "      <th>Humidity</th>\n",
       "      <th>Wind Speed</th>\n",
       "      <th>general diffuse flows</th>\n",
       "      <th>diffuse flows</th>\n",
       "      <th>index</th>\n",
       "      <th>Zone 1</th>\n",
       "      <th>Zone 1 predictions</th>\n",
       "      <th>Zone 2</th>\n",
       "      <th>Zone 2 predictions</th>\n",
       "      <th>Zone 3</th>\n",
       "      <th>Zone 3 predictions</th>\n",
       "    </tr>\n",
       "  </thead>\n",
       "  <tbody>\n",
       "    <tr>\n",
       "      <th>25500</th>\n",
       "      <td>20.46</td>\n",
       "      <td>89.70</td>\n",
       "      <td>4.916</td>\n",
       "      <td>0.055</td>\n",
       "      <td>0.141</td>\n",
       "      <td>1</td>\n",
       "      <td>27782.78146</td>\n",
       "      <td>24699.33775</td>\n",
       "      <td>17191.68399</td>\n",
       "      <td>15350.51975</td>\n",
       "      <td>21184.98462</td>\n",
       "      <td>19247.26154</td>\n",
       "    </tr>\n",
       "    <tr>\n",
       "      <th>40040</th>\n",
       "      <td>20.59</td>\n",
       "      <td>68.96</td>\n",
       "      <td>4.920</td>\n",
       "      <td>0.077</td>\n",
       "      <td>0.115</td>\n",
       "      <td>2</td>\n",
       "      <td>26386.34573</td>\n",
       "      <td>24804.43951</td>\n",
       "      <td>17887.96680</td>\n",
       "      <td>15627.87751</td>\n",
       "      <td>13375.80547</td>\n",
       "      <td>14505.32915</td>\n",
       "    </tr>\n",
       "    <tr>\n",
       "      <th>35066</th>\n",
       "      <td>27.01</td>\n",
       "      <td>46.78</td>\n",
       "      <td>4.922</td>\n",
       "      <td>784.000</td>\n",
       "      <td>66.450</td>\n",
       "      <td>3</td>\n",
       "      <td>27506.54867</td>\n",
       "      <td>27646.72566</td>\n",
       "      <td>15537.62994</td>\n",
       "      <td>15672.34927</td>\n",
       "      <td>13967.55873</td>\n",
       "      <td>13896.95608</td>\n",
       "    </tr>\n",
       "    <tr>\n",
       "      <th>27275</th>\n",
       "      <td>25.00</td>\n",
       "      <td>61.83</td>\n",
       "      <td>4.909</td>\n",
       "      <td>598.400</td>\n",
       "      <td>99.700</td>\n",
       "      <td>4</td>\n",
       "      <td>30388.30565</td>\n",
       "      <td>30943.25581</td>\n",
       "      <td>18672.15190</td>\n",
       "      <td>18869.62025</td>\n",
       "      <td>23612.38494</td>\n",
       "      <td>23979.91632</td>\n",
       "    </tr>\n",
       "    <tr>\n",
       "      <th>3329</th>\n",
       "      <td>9.85</td>\n",
       "      <td>70.80</td>\n",
       "      <td>0.083</td>\n",
       "      <td>0.051</td>\n",
       "      <td>0.115</td>\n",
       "      <td>5</td>\n",
       "      <td>22517.46835</td>\n",
       "      <td>23598.98734</td>\n",
       "      <td>13984.19453</td>\n",
       "      <td>14691.79331</td>\n",
       "      <td>14550.36145</td>\n",
       "      <td>15487.22892</td>\n",
       "    </tr>\n",
       "    <tr>\n",
       "      <th>...</th>\n",
       "      <td>...</td>\n",
       "      <td>...</td>\n",
       "      <td>...</td>\n",
       "      <td>...</td>\n",
       "      <td>...</td>\n",
       "      <td>...</td>\n",
       "      <td>...</td>\n",
       "      <td>...</td>\n",
       "      <td>...</td>\n",
       "      <td>...</td>\n",
       "      <td>...</td>\n",
       "      <td>...</td>\n",
       "    </tr>\n",
       "    <tr>\n",
       "      <th>9269</th>\n",
       "      <td>12.77</td>\n",
       "      <td>74.90</td>\n",
       "      <td>0.087</td>\n",
       "      <td>113.900</td>\n",
       "      <td>107.800</td>\n",
       "      <td>10480</td>\n",
       "      <td>28456.85106</td>\n",
       "      <td>28221.53846</td>\n",
       "      <td>17315.85366</td>\n",
       "      <td>22217.35537</td>\n",
       "      <td>12240.00000</td>\n",
       "      <td>14960.96386</td>\n",
       "    </tr>\n",
       "    <tr>\n",
       "      <th>33689</th>\n",
       "      <td>21.55</td>\n",
       "      <td>53.88</td>\n",
       "      <td>4.926</td>\n",
       "      <td>0.095</td>\n",
       "      <td>0.063</td>\n",
       "      <td>10481</td>\n",
       "      <td>42410.47725</td>\n",
       "      <td>43439.73363</td>\n",
       "      <td>28914.04435</td>\n",
       "      <td>29282.78775</td>\n",
       "      <td>29781.06583</td>\n",
       "      <td>30701.94357</td>\n",
       "    </tr>\n",
       "    <tr>\n",
       "      <th>21133</th>\n",
       "      <td>21.55</td>\n",
       "      <td>72.30</td>\n",
       "      <td>4.921</td>\n",
       "      <td>328.400</td>\n",
       "      <td>323.500</td>\n",
       "      <td>10482</td>\n",
       "      <td>38639.21311</td>\n",
       "      <td>39936.00000</td>\n",
       "      <td>23650.77399</td>\n",
       "      <td>24434.67492</td>\n",
       "      <td>20276.59919</td>\n",
       "      <td>21360.97166</td>\n",
       "    </tr>\n",
       "    <tr>\n",
       "      <th>40112</th>\n",
       "      <td>25.02</td>\n",
       "      <td>44.41</td>\n",
       "      <td>4.920</td>\n",
       "      <td>449.700</td>\n",
       "      <td>206.500</td>\n",
       "      <td>10483</td>\n",
       "      <td>36790.89716</td>\n",
       "      <td>30542.26050</td>\n",
       "      <td>22753.94191</td>\n",
       "      <td>17607.73931</td>\n",
       "      <td>13048.99696</td>\n",
       "      <td>17844.36364</td>\n",
       "    </tr>\n",
       "    <tr>\n",
       "      <th>7206</th>\n",
       "      <td>13.97</td>\n",
       "      <td>62.06</td>\n",
       "      <td>0.077</td>\n",
       "      <td>0.081</td>\n",
       "      <td>0.134</td>\n",
       "      <td>10484</td>\n",
       "      <td>25267.11864</td>\n",
       "      <td>44155.91489</td>\n",
       "      <td>15497.87234</td>\n",
       "      <td>26096.34146</td>\n",
       "      <td>15450.69347</td>\n",
       "      <td>25838.70968</td>\n",
       "    </tr>\n",
       "  </tbody>\n",
       "</table>\n",
       "<p>10484 rows × 12 columns</p>\n",
       "</div>"
      ],
      "text/plain": [
       "       Temperature  Humidity  Wind Speed  general diffuse flows  \\\n",
       "25500        20.46     89.70       4.916                  0.055   \n",
       "40040        20.59     68.96       4.920                  0.077   \n",
       "35066        27.01     46.78       4.922                784.000   \n",
       "27275        25.00     61.83       4.909                598.400   \n",
       "3329          9.85     70.80       0.083                  0.051   \n",
       "...            ...       ...         ...                    ...   \n",
       "9269         12.77     74.90       0.087                113.900   \n",
       "33689        21.55     53.88       4.926                  0.095   \n",
       "21133        21.55     72.30       4.921                328.400   \n",
       "40112        25.02     44.41       4.920                449.700   \n",
       "7206         13.97     62.06       0.077                  0.081   \n",
       "\n",
       "       diffuse flows  index       Zone 1  Zone 1 predictions       Zone 2  \\\n",
       "25500          0.141      1  27782.78146         24699.33775  17191.68399   \n",
       "40040          0.115      2  26386.34573         24804.43951  17887.96680   \n",
       "35066         66.450      3  27506.54867         27646.72566  15537.62994   \n",
       "27275         99.700      4  30388.30565         30943.25581  18672.15190   \n",
       "3329           0.115      5  22517.46835         23598.98734  13984.19453   \n",
       "...              ...    ...          ...                 ...          ...   \n",
       "9269         107.800  10480  28456.85106         28221.53846  17315.85366   \n",
       "33689          0.063  10481  42410.47725         43439.73363  28914.04435   \n",
       "21133        323.500  10482  38639.21311         39936.00000  23650.77399   \n",
       "40112        206.500  10483  36790.89716         30542.26050  22753.94191   \n",
       "7206           0.134  10484  25267.11864         44155.91489  15497.87234   \n",
       "\n",
       "       Zone 2 predictions       Zone 3  Zone 3 predictions  \n",
       "25500         15350.51975  21184.98462         19247.26154  \n",
       "40040         15627.87751  13375.80547         14505.32915  \n",
       "35066         15672.34927  13967.55873         13896.95608  \n",
       "27275         18869.62025  23612.38494         23979.91632  \n",
       "3329          14691.79331  14550.36145         15487.22892  \n",
       "...                   ...          ...                 ...  \n",
       "9269          22217.35537  12240.00000         14960.96386  \n",
       "33689         29282.78775  29781.06583         30701.94357  \n",
       "21133         24434.67492  20276.59919         21360.97166  \n",
       "40112         17607.73931  13048.99696         17844.36364  \n",
       "7206          26096.34146  15450.69347         25838.70968  \n",
       "\n",
       "[10484 rows x 12 columns]"
      ]
     },
     "execution_count": 151,
     "metadata": {},
     "output_type": "execute_result"
    }
   ],
   "source": [
    "X_test"
   ]
  },
  {
   "cell_type": "code",
   "execution_count": 152,
   "id": "a6af38f9",
   "metadata": {},
   "outputs": [
    {
     "name": "stdout",
     "output_type": "stream",
     "text": [
      "Dataset saved. (1.1 Mo)\n"
     ]
    }
   ],
   "source": [
    "#  Save it\n",
    "import os\n",
    "data_dir='Result'\n",
    "# décommmenter la ligne si le fichier n'est pas créé\n",
    "#os.makedirs(data_dir, mode=0o750, exist_ok=True)\n",
    "\n",
    "filedata = 'Result/X_test.csv'\n",
    "\n",
    "\n",
    "X_test.to_csv(filedata, sep=';', index=False)\n",
    "size=os.path.getsize(filedata)/(1024*1024)\n",
    "print(f'Dataset saved. ({size:0.1f} Mo)')\n"
   ]
  },
  {
   "cell_type": "code",
   "execution_count": null,
   "id": "2562b010",
   "metadata": {},
   "outputs": [],
   "source": []
  }
 ],
 "metadata": {
  "kernelspec": {
   "display_name": "Python 3 (ipykernel)",
   "language": "python",
   "name": "python3"
  },
  "language_info": {
   "codemirror_mode": {
    "name": "ipython",
    "version": 3
   },
   "file_extension": ".py",
   "mimetype": "text/x-python",
   "name": "python",
   "nbconvert_exporter": "python",
   "pygments_lexer": "ipython3",
   "version": "3.9.13"
  }
 },
 "nbformat": 4,
 "nbformat_minor": 5
}
